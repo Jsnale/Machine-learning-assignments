{
 "cells": [
  {
   "cell_type": "markdown",
   "id": "c2266f6a",
   "metadata": {},
   "source": [
    "# Machine Learning Assignment 2"
   ]
  },
  {
   "cell_type": "code",
   "execution_count": 1,
   "id": "85ac8f7a",
   "metadata": {},
   "outputs": [
    {
     "data": {
      "text/plain": [
       "(442, 10)"
      ]
     },
     "execution_count": 1,
     "metadata": {},
     "output_type": "execute_result"
    }
   ],
   "source": [
    "from sklearn.datasets import load_diabetes\n",
    "diabetes = load_diabetes()\n",
    "diabetes.data.shape\n",
    "#442 Samples and 10 features included"
   ]
  },
  {
   "cell_type": "code",
   "execution_count": 2,
   "id": "754aaa71",
   "metadata": {},
   "outputs": [
    {
     "name": "stdout",
     "output_type": "stream",
     "text": [
      ".. _diabetes_dataset:\n",
      "\n",
      "Diabetes dataset\n",
      "----------------\n",
      "\n",
      "Ten baseline variables, age, sex, body mass index, average blood\n",
      "pressure, and six blood serum measurements were obtained for each of n =\n",
      "442 diabetes patients, as well as the response of interest, a\n",
      "quantitative measure of disease progression one year after baseline.\n",
      "\n",
      "**Data Set Characteristics:**\n",
      "\n",
      "  :Number of Instances: 442\n",
      "\n",
      "  :Number of Attributes: First 10 columns are numeric predictive values\n",
      "\n",
      "  :Target: Column 11 is a quantitative measure of disease progression one year after baseline\n",
      "\n",
      "  :Attribute Information:\n",
      "      - age     age in years\n",
      "      - sex\n",
      "      - bmi     body mass index\n",
      "      - bp      average blood pressure\n",
      "      - s1      tc, total serum cholesterol\n",
      "      - s2      ldl, low-density lipoproteins\n",
      "      - s3      hdl, high-density lipoproteins\n",
      "      - s4      tch, total cholesterol / HDL\n",
      "      - s5      ltg, possibly log of serum triglycerides level\n",
      "      - s6      glu, blood sugar level\n",
      "\n",
      "Note: Each of these 10 feature variables have been mean centered and scaled by the standard deviation times `n_samples` (i.e. the sum of squares of each column totals 1).\n",
      "\n",
      "Source URL:\n",
      "https://www4.stat.ncsu.edu/~boos/var.select/diabetes.html\n",
      "\n",
      "For more information see:\n",
      "Bradley Efron, Trevor Hastie, Iain Johnstone and Robert Tibshirani (2004) \"Least Angle Regression,\" Annals of Statistics (with discussion), 407-499.\n",
      "(https://web.stanford.edu/~hastie/Papers/LARS/LeastAngle_2002.pdf)\n"
     ]
    }
   ],
   "source": [
    "print (diabetes.DESCR)"
   ]
  },
  {
   "cell_type": "markdown",
   "id": "c66b0175",
   "metadata": {},
   "source": [
    "## Lasso model - sklearn default dataset (Test 1)"
   ]
  },
  {
   "cell_type": "code",
   "execution_count": 3,
   "id": "afcee142",
   "metadata": {},
   "outputs": [],
   "source": [
    "from sklearn.model_selection import train_test_split\n",
    "X_train, X_test, Y_train, Y_test = train_test_split(diabetes.data, diabetes.target, random_state=2406)"
   ]
  },
  {
   "cell_type": "code",
   "execution_count": 4,
   "id": "ca7ddaef",
   "metadata": {},
   "outputs": [
    {
     "data": {
      "text/plain": [
       "0.4069799701804221"
      ]
     },
     "execution_count": 4,
     "metadata": {},
     "output_type": "execute_result"
    }
   ],
   "source": [
    "from sklearn.linear_model import Lasso\n",
    "lasso = Lasso().fit(X_train, Y_train) #Default lasso alpha=1.0 max_iter=1000\n",
    "# Training R^2\n",
    "lasso.score(X_train, Y_train)"
   ]
  },
  {
   "cell_type": "code",
   "execution_count": 5,
   "id": "de73cd91",
   "metadata": {},
   "outputs": [
    {
     "data": {
      "text/plain": [
       "0.2292433392265275"
      ]
     },
     "execution_count": 5,
     "metadata": {},
     "output_type": "execute_result"
    }
   ],
   "source": [
    "# Test R^2\n",
    "lasso.score(X_test, Y_test)"
   ]
  },
  {
   "cell_type": "markdown",
   "id": "026e9cb5",
   "metadata": {},
   "source": [
    "The accuracy of a KNeighborsRegressor is measured in scikit-learn by R^2\n",
    "For all classifiers score returns one minus the test error rate, and for all regressors score returns R2\n",
    "KNeighborsRegressor.score"
   ]
  },
  {
   "cell_type": "code",
   "execution_count": 6,
   "id": "ff637b16",
   "metadata": {},
   "outputs": [
    {
     "name": "stdout",
     "output_type": "stream",
     "text": [
      "2\n",
      "Features used ['bmi' 's5']\n",
      "Features not used ['age' 'sex' 'bp' 's1' 's2' 's3' 's4' 's6']\n"
     ]
    }
   ],
   "source": [
    "# Number of features used\n",
    "import numpy as np\n",
    "print (np.sum(lasso.coef_ !=0))\n",
    "# Features\n",
    "features = load_diabetes()['feature_names']\n",
    "alpha = np.abs(lasso.coef_)\n",
    "print (\"Features used\",np.array(features)[alpha > 0])\n",
    "print (\"Features not used\",np.array(features)[alpha == 0])"
   ]
  },
  {
   "cell_type": "code",
   "execution_count": 7,
   "id": "da0c13fb",
   "metadata": {},
   "outputs": [
    {
     "data": {
      "text/plain": [
       "array([  0.        ,   0.        , 436.81182568,   0.        ,\n",
       "         0.        ,   0.        ,   0.        ,   0.        ,\n",
       "       323.2728372 ,   0.        ])"
      ]
     },
     "execution_count": 7,
     "metadata": {},
     "output_type": "execute_result"
    }
   ],
   "source": [
    "alpha"
   ]
  },
  {
   "cell_type": "markdown",
   "id": "ad222f82",
   "metadata": {},
   "source": [
    "## Lasso model - Original dataset (Test 2)"
   ]
  },
  {
   "cell_type": "code",
   "execution_count": 8,
   "id": "f989271e",
   "metadata": {},
   "outputs": [],
   "source": [
    "#Import samples and labels, removing header\n",
    "label = np.genfromtxt(\"diabetes.data\", delimiter=\"\", usecols=-1, skip_header=1, dtype='int') \n",
    "data = np.genfromtxt(\"diabetes.data\", delimiter=\"\", usecols=[*range(0,10)], skip_header=1, dtype='float') "
   ]
  },
  {
   "cell_type": "code",
   "execution_count": 9,
   "id": "fa5b4297",
   "metadata": {},
   "outputs": [
    {
     "name": "stdout",
     "output_type": "stream",
     "text": [
      "[151]\n",
      "[[ 59.       2.      32.1    101.     157.      93.2     38.       4.\n",
      "    4.8598  87.    ]]\n"
     ]
    }
   ],
   "source": [
    "# Verify with file\n",
    "print (label[:1])\n",
    "print (data[:1])"
   ]
  },
  {
   "cell_type": "code",
   "execution_count": 10,
   "id": "6421a494",
   "metadata": {},
   "outputs": [],
   "source": [
    "X2_train, X2_test, Y2_train, Y2_test = train_test_split(data, label, random_state=2406) #Default 3:1 split"
   ]
  },
  {
   "cell_type": "code",
   "execution_count": 11,
   "id": "3afed1c4",
   "metadata": {},
   "outputs": [
    {
     "name": "stdout",
     "output_type": "stream",
     "text": [
      "Training set score = 0.5461480338127306\n",
      "Test set score = 0.32034257541676436\n"
     ]
    }
   ],
   "source": [
    "from sklearn.linear_model import Lasso\n",
    "lasso = Lasso().fit(X2_train, Y2_train) #Default lasso alpha=1.0 max_iter=1000\n",
    "# Training R^2\n",
    "print(\"Training set score =\", lasso.score(X2_train, Y2_train))\n",
    "print(\"Test set score =\", lasso.score(X2_test, Y2_test))"
   ]
  },
  {
   "cell_type": "code",
   "execution_count": 12,
   "id": "176dde6f",
   "metadata": {},
   "outputs": [
    {
     "name": "stdout",
     "output_type": "stream",
     "text": [
      "10\n",
      "Features used ['age' 'sex' 'bmi' 'bp' 's1' 's2' 's3' 's4' 's5' 's6']\n",
      "Features not used []\n"
     ]
    }
   ],
   "source": [
    "print (np.sum(lasso.coef_ !=0))\n",
    "# Features\n",
    "features = load_diabetes()['feature_names']\n",
    "alpha = np.abs(lasso.coef_)\n",
    "print (\"Features used\",np.array(features)[alpha > 0])\n",
    "print (\"Features not used\",np.array(features)[alpha == 0])"
   ]
  },
  {
   "cell_type": "code",
   "execution_count": 13,
   "id": "6497640e",
   "metadata": {},
   "outputs": [
    {
     "data": {
      "text/plain": [
       "array([1.11735124e-01, 1.78695977e+01, 6.33924787e+00, 9.29604509e-01,\n",
       "       2.32985467e-02, 1.37662251e-01, 1.09785137e+00, 2.16083195e+00,\n",
       "       3.75979578e+01, 3.27175549e-01])"
      ]
     },
     "execution_count": 13,
     "metadata": {},
     "output_type": "execute_result"
    }
   ],
   "source": [
    "alpha"
   ]
  },
  {
   "cell_type": "markdown",
   "id": "7c33747e",
   "metadata": {},
   "source": [
    "All 10 features used in Lasso of Original dataset, compared to the 3 in sklearn ver(Test 1). As we read all 10 columns from the .data file\n",
    "\n",
    "Test 1 scored poorley in both training and test set evaluation.\n",
    "\n",
    "Test 2 dataset has improved in both the training and test set scores, however has a lower test set score compared to training set showing potential overfitting."
   ]
  },
  {
   "cell_type": "markdown",
   "id": "cbf3adad",
   "metadata": {},
   "source": [
    "## Preprocessing datasets (Test 3)"
   ]
  },
  {
   "cell_type": "code",
   "execution_count": 14,
   "id": "275fbd9d",
   "metadata": {},
   "outputs": [
    {
     "data": {
      "text/plain": [
       "StandardScaler()"
      ]
     },
     "execution_count": 14,
     "metadata": {},
     "output_type": "execute_result"
    }
   ],
   "source": [
    "X3_train, X3_test, Y3_train, Y3_test = train_test_split(data, label, random_state=2406) #Default 3:1 split\n",
    "from sklearn.preprocessing import StandardScaler\n",
    "scaler = StandardScaler()\n",
    "scaler.fit(X3_train)"
   ]
  },
  {
   "cell_type": "code",
   "execution_count": 15,
   "id": "2a180a29",
   "metadata": {},
   "outputs": [
    {
     "name": "stdout",
     "output_type": "stream",
     "text": [
      "(331, 10)\n",
      "(331, 10)\n",
      "[19.      1.     18.1    62.     97.     41.6    22.      2.      3.2581\n",
      " 58.    ]\n",
      "[ 79.      2.     42.2   131.    301.    242.4    99.      9.09    6.107\n",
      " 124.   ]\n",
      "[-2.26713706 -0.91034569 -1.82405515 -2.39115789 -2.66138308 -2.42912321\n",
      " -2.18857565 -1.59895094 -2.54234956 -2.83893622]\n",
      "[2.33621046 1.0984838  3.45423786 2.69279366 3.27307406 4.2163807\n",
      " 3.90296389 3.93230211 2.74417155 2.77825431]\n"
     ]
    }
   ],
   "source": [
    "# Normalising dataset\n",
    "X3_trainsc = scaler.transform(X3_train)\n",
    "X3_testsc = scaler.transform(X3_test)\n",
    "# Print dataset properties before and after scaling\n",
    "print(X3_train.shape)\n",
    "print (X3_trainsc.shape)\n",
    "\n",
    "print (X3_train.min(axis=0))\n",
    "print (X3_train.max(axis=0))\n",
    "print (X3_trainsc.min(axis=0))\n",
    "print (X3_trainsc.max(axis=0))"
   ]
  },
  {
   "cell_type": "code",
   "execution_count": 16,
   "id": "0099010f",
   "metadata": {},
   "outputs": [
    {
     "name": "stdout",
     "output_type": "stream",
     "text": [
      "Training set score = 0.547411918915724\n",
      "Test set score = 0.3254240296029125\n"
     ]
    }
   ],
   "source": [
    "from sklearn.linear_model import Lasso\n",
    "lasso = Lasso().fit(X3_trainsc, Y3_train) #Default lasso alpha=1.0 max_iter=1000\n",
    "# Training R^2\n",
    "print(\"Training set score =\", lasso.score(X3_trainsc, Y3_train))\n",
    "print(\"Test set score =\", lasso.score(X3_testsc, Y3_test))"
   ]
  },
  {
   "cell_type": "code",
   "execution_count": 17,
   "id": "2e9dfa32",
   "metadata": {},
   "outputs": [
    {
     "name": "stdout",
     "output_type": "stream",
     "text": [
      "9\n",
      "Features used ['age' 'sex' 'bmi' 'bp' 's1' 's3' 's4' 's5' 's6']\n",
      "Features not used ['s2']\n"
     ]
    }
   ],
   "source": [
    "print (np.sum(lasso.coef_ !=0))\n",
    "# Features\n",
    "features = load_diabetes()['feature_names']\n",
    "alpha = np.abs(lasso.coef_)\n",
    "print (\"Features used\",np.array(features)[alpha > 0])\n",
    "print (\"Features not used\",np.array(features)[alpha == 0])"
   ]
  },
  {
   "cell_type": "markdown",
   "id": "24e7f3d3",
   "metadata": {},
   "source": [
    "Test 3 retains 9 features with only low-density lipoproteins being not used.\n",
    "\n",
    "A priori expected was that the results would be closer to that of test 1 as the data was normalised for this dataset rather than test 2 which kept original data.\n",
    "However this expectation was not the case with results above for test 3 being more similar to that of test 2, the reason for this was because of the number of features/coefficients used in the model.\n",
    "\n",
    "As only 2 features are used in test 1 producing poor results with underfitting, however test 3 uses 9 features with is much closer to the amount of features used in the model of test 2. While test 2 shows some overfitting, the decramented number of features seen in test 3 could explain the slight increase in test set score. "
   ]
  },
  {
   "cell_type": "code",
   "execution_count": 18,
   "id": "427c910d",
   "metadata": {},
   "outputs": [
    {
     "data": {
      "text/plain": [
       "array([ 0.15416744,  9.55165813, 28.13262239, 11.41696699,  5.08761265,\n",
       "        0.        , 11.39281903,  2.55625673, 24.29263411,  2.6193905 ])"
      ]
     },
     "execution_count": 18,
     "metadata": {},
     "output_type": "execute_result"
    }
   ],
   "source": [
    "alpha"
   ]
  },
  {
   "cell_type": "markdown",
   "id": "539940f6",
   "metadata": {},
   "source": [
    "## Varying regulatization parameter in Lasso"
   ]
  },
  {
   "cell_type": "code",
   "execution_count": 19,
   "id": "d44b9a8d",
   "metadata": {},
   "outputs": [],
   "source": [
    "X3_train, X3_test, Y3_train, Y3_test = train_test_split(data, label, random_state=2406) #Default 3:1 split\n",
    "from sklearn.preprocessing import StandardScaler\n",
    "scaler = StandardScaler()\n",
    "scaler.fit(X3_train)\n",
    "X3_trainsc = scaler.transform(X3_train)\n",
    "X3_testsc = scaler.transform(X3_test)"
   ]
  },
  {
   "cell_type": "code",
   "execution_count": 20,
   "id": "cb7fc795",
   "metadata": {},
   "outputs": [],
   "source": [
    "x_axis =np.array([])\n",
    "y_axis = np.array([])"
   ]
  },
  {
   "cell_type": "code",
   "execution_count": 21,
   "id": "d94c347e",
   "metadata": {},
   "outputs": [],
   "source": [
    "# for alpha in range(1, 500000, 100): #Actual range (0.0001 ,50, 0.01)\n",
    "#     alpha/=10000\n",
    "for alpha in [0.001, 0.01, 0.1 ,1 , 1.5 , 2, 4, 8, 16, 32 , 64, 128 ]:\n",
    "    # Training on training set\n",
    "    lasso_graph = Lasso(alpha).fit(X3_trainsc,Y3_train) #Using normalised datasets\n",
    "    # Apply same lasso to test set for accuracy\n",
    "    y_axis = np.append(y_axis, lasso_graph.score(X3_testsc, Y3_test)) #Plot test set data\n",
    "    x_axis = np.append(x_axis, np.sum(lasso_graph.coef_ !=0))"
   ]
  },
  {
   "cell_type": "code",
   "execution_count": 22,
   "id": "76be00fe",
   "metadata": {},
   "outputs": [
    {
     "data": {
      "text/plain": [
       "9.0"
      ]
     },
     "execution_count": 22,
     "metadata": {},
     "output_type": "execute_result"
    }
   ],
   "source": [
    "x_axis[3]"
   ]
  },
  {
   "cell_type": "code",
   "execution_count": 23,
   "id": "ffcf536d",
   "metadata": {},
   "outputs": [
    {
     "data": {
      "text/plain": [
       "0.3254240296029125"
      ]
     },
     "execution_count": 23,
     "metadata": {},
     "output_type": "execute_result"
    }
   ],
   "source": [
    "y_axis[3] # Matches with test 3"
   ]
  },
  {
   "cell_type": "code",
   "execution_count": 24,
   "id": "cd53b64a",
   "metadata": {},
   "outputs": [
    {
     "data": {
      "text/plain": [
       "Text(0.5, 0, 'Number of features')"
      ]
     },
     "execution_count": 24,
     "metadata": {},
     "output_type": "execute_result"
    },
    {
     "data": {
      "image/png": "[encoded data removed]",
      "text/plain": [
       "<Figure size 640x480 with 1 Axes>"
      ]
     },
     "metadata": {},
     "output_type": "display_data"
    }
   ],
   "source": [
    "import matplotlib.pyplot as plt\n",
    "plt.title(\"Test dataset R^2 against features used\")\n",
    "plt.plot(x_axis,y_axis, 'r')\n",
    "plt.xlim(0,11)\n",
    "plt.grid()\n",
    "plt.ylabel(\"Test R^2\")\n",
    "plt.xlabel(\"Number of features\")"
   ]
  },
  {
   "cell_type": "markdown",
   "id": "0ea2419d",
   "metadata": {},
   "source": [
    "From looking at the graph obtained of R^2 against number of features, I can infer that the ideal number of features and the best on the point on the curve would be when the number of features is 8 or 9. This is because this is at the peak of the graph meaning it when the Lasso regression model is most accurate and has the highest R^2 value. This is the point at the model is most reliable at classing test samples.\n",
    "\n",
    "Another reason is that after 9 feautes in the graph the gradient becomes negative and the model actually starts decreasing in R^2 value. The reason for this being that model starts overfitting on the training sample. \n",
    "From this a hypothesis can be made the best number of features to use would be 8-9\n",
    "\n",
    "Another thing that can observed is that general range of alpha values chosen can result in a feature  not having any samples for the graph. Such was the case with the graph seen above as there is no sample for 5 features it results in a double plot for 4."
   ]
  },
  {
   "cell_type": "markdown",
   "id": "cfc832c7",
   "metadata": {},
   "source": [
    "## Cross-validation to find alpha"
   ]
  },
  {
   "cell_type": "code",
   "execution_count": 25,
   "id": "c57cd64a",
   "metadata": {},
   "outputs": [],
   "source": [
    "# from sklearn.model_selection import cross_val_score\n",
    "# best_score=0\n",
    "# best_alpha=0\n",
    "# for alpha in range(1, 200, 1): #Actual range (0.1 ,20, 0.1)\n",
    "#     alpha/=10\n",
    "#     lasso_cross = Lasso(alpha)\n",
    "#     # Cross validate\n",
    "#     scores = cross_val_score(lasso_cross, X3_trainsc, Y3_train, cv=5)  #5 Fold cross-val\n",
    "#     # Compute mean accuracy\n",
    "#     score = np.mean(scores)\n",
    "#     print(\"[\",alpha,\"]\",score)\n",
    "#     if score > best_score:\n",
    "#         best_score = score\n",
    "#         best_alpha = alpha"
   ]
  },
  {
   "cell_type": "code",
   "execution_count": 26,
   "id": "4ec5b293",
   "metadata": {},
   "outputs": [
    {
     "data": {
      "text/plain": [
       "LassoCV(cv=5, max_iter=10000)"
      ]
     },
     "execution_count": 26,
     "metadata": {},
     "output_type": "execute_result"
    }
   ],
   "source": [
    "from sklearn.linear_model import LassoCV\n",
    "lasso_best = Lasso(max_iter=10000)\n",
    "# 5 fold cross validatation\n",
    "lassocv = LassoCV(alphas=None, cv=5, max_iter=10000)\n",
    "lassocv.fit(X3_trainsc,Y3_train)"
   ]
  },
  {
   "cell_type": "code",
   "execution_count": 27,
   "id": "3e91050a",
   "metadata": {},
   "outputs": [
    {
     "data": {
      "text/plain": [
       "Lasso(alpha=0.19710502546576905, max_iter=10000)"
      ]
     },
     "execution_count": 27,
     "metadata": {},
     "output_type": "execute_result"
    }
   ],
   "source": [
    "# Obtain best parameter\n",
    "lasso_best.set_params(alpha=lassocv.alpha_)\n",
    "# Rebuild model on full training set\n",
    "lasso_best.fit(X3_trainsc,Y3_train)"
   ]
  },
  {
   "cell_type": "code",
   "execution_count": 28,
   "id": "121196c5",
   "metadata": {},
   "outputs": [],
   "source": [
    "best_alpha = lassocv.alpha_"
   ]
  },
  {
   "cell_type": "code",
   "execution_count": 29,
   "id": "43282c48",
   "metadata": {},
   "outputs": [
    {
     "data": {
      "text/plain": [
       "0.19710502546576905"
      ]
     },
     "execution_count": 29,
     "metadata": {},
     "output_type": "execute_result"
    }
   ],
   "source": [
    "best_alpha"
   ]
  },
  {
   "cell_type": "code",
   "execution_count": 30,
   "id": "104ac77b",
   "metadata": {},
   "outputs": [
    {
     "name": "stdout",
     "output_type": "stream",
     "text": [
      "Best regularization parameter found = 0.19710502546576905\n",
      "Training set score = 0.5522247082231635\n",
      "Test set score= 0.3212867484172205\n",
      "10\n",
      "Features used ['age' 'sex' 'bmi' 'bp' 's1' 's2' 's3' 's4' 's5' 's6']\n",
      "Features not used []\n"
     ]
    }
   ],
   "source": [
    "# Training scores\n",
    "training_score = lasso_best.score(X3_trainsc, Y3_train)\n",
    "test_score = lasso_best.score(X3_testsc, Y3_test)\n",
    "print (\"Best regularization parameter found =\", best_alpha)\n",
    "print (\"Training set score =\", training_score)\n",
    "print (\"Test set score=\", test_score)\n",
    "\n",
    "# Features\n",
    "print (np.sum(lasso_best.coef_ !=0))\n",
    "features = load_diabetes()['feature_names']\n",
    "alpha = np.abs(lasso_best.coef_)\n",
    "print (\"Features used\",np.array(features)[alpha > 0])\n",
    "print (\"Features not used\",np.array(features)[alpha == 0])"
   ]
  },
  {
   "cell_type": "markdown",
   "id": "e5a0286c",
   "metadata": {},
   "source": [
    "An interesting observevation made here is that the score given by cross validation is actually lower thatn that of data pre-processing in test 3. This is a clear indication of the test sample overfitting, because while cross validation has a higher training set score than test 3 it has a lower test set score than that of test 3.\n",
    "\n",
    "Test 3 only uses 9 feautes rather than the 10 favored by the cross validation results. The test set score follows the trend shown in the graph of the alpha value for lasso.\n",
    "As the extra feature used for the test set score calculation has resulted in a decreased score.\n",
    "\n",
    "Thus proving the hypothesis before of the \"sweet spot\" being around 8-9 features"
   ]
  },
  {
   "cell_type": "markdown",
   "id": "4bdb1831",
   "metadata": {},
   "source": [
    "## Inductive Conformal predictor"
   ]
  },
  {
   "cell_type": "code",
   "execution_count": 31,
   "id": "ae130f79",
   "metadata": {},
   "outputs": [],
   "source": [
    "#Import samples and labels, removing header\n",
    "label = np.genfromtxt(\"diabetes.data\", delimiter=\"\", usecols=-1, skip_header=1, dtype='int') \n",
    "data = np.genfromtxt(\"diabetes.data\", delimiter=\"\", usecols=[*range(0,10)], skip_header=1, dtype='float') "
   ]
  },
  {
   "cell_type": "code",
   "execution_count": 32,
   "id": "0f5301ce",
   "metadata": {},
   "outputs": [],
   "source": [
    "X_train, X_test, Y_train, Y_test = train_test_split(data, label, random_state=2406) #Default 3:1 split\n",
    "X_train_pr, X_valid, Y_train_pr, Y_valid = train_test_split(X_train,Y_train, random_state=1, test_size = 99)"
   ]
  },
  {
   "cell_type": "code",
   "execution_count": 33,
   "id": "bb8be341",
   "metadata": {},
   "outputs": [
    {
     "data": {
      "text/plain": [
       "99"
      ]
     },
     "execution_count": 33,
     "metadata": {},
     "output_type": "execute_result"
    }
   ],
   "source": [
    "len(X_valid) # Calibration set size 99"
   ]
  },
  {
   "cell_type": "code",
   "execution_count": 34,
   "id": "325094c8",
   "metadata": {},
   "outputs": [
    {
     "data": {
      "text/plain": [
       "StandardScaler()"
      ]
     },
     "execution_count": 34,
     "metadata": {},
     "output_type": "execute_result"
    }
   ],
   "source": [
    "from sklearn.preprocessing import StandardScaler\n",
    "scaler = StandardScaler()\n",
    "# Fit to training set proper\n",
    "scaler.fit(X_train_pr)"
   ]
  },
  {
   "cell_type": "code",
   "execution_count": 35,
   "id": "3ed06ee0",
   "metadata": {},
   "outputs": [
    {
     "name": "stdout",
     "output_type": "stream",
     "text": [
      "[ 19.       1.      18.1     62.     113.      51.      28.       2.\n",
      "   3.2581  60.    ]\n",
      "[ 79.      2.     42.2   131.    282.    198.6    99.      8.      6.107\n",
      " 124.   ]\n"
     ]
    }
   ],
   "source": [
    "print (X_train_pr.min(axis=0))\n",
    "print (X_train_pr.max(axis=0))"
   ]
  },
  {
   "cell_type": "code",
   "execution_count": 36,
   "id": "652d85aa",
   "metadata": {},
   "outputs": [
    {
     "name": "stdout",
     "output_type": "stream",
     "text": [
      "[-2.31686222 -0.90926985 -1.76287348 -2.45519828 -2.25744329 -2.17445964\n",
      " -1.74148157 -1.66223872 -2.55786005 -2.74197376]\n",
      "[2.31154221 1.09978353 3.37611412 2.61984553 2.85932376 2.92061613\n",
      " 4.02101027 3.26270337 2.71565751 2.70747429]\n"
     ]
    }
   ],
   "source": [
    "# Apply\n",
    "X_train_pr = scaler.transform(X_train_pr)\n",
    "X_valid = scaler.transform(X_valid)\n",
    "X_test = scaler.transform(X_test)\n",
    "print (X_train_pr.min(axis=0))\n",
    "print (X_train_pr.max(axis=0))"
   ]
  },
  {
   "cell_type": "code",
   "execution_count": 37,
   "id": "0bb14e5b",
   "metadata": {},
   "outputs": [],
   "source": [
    "from sklearn.linear_model import Lasso\n",
    "lasso = Lasso(alpha=best_alpha).fit(X_train_pr,Y_train_pr)\n",
    "predict = lasso.predict(X_valid)\n",
    "\n",
    "noncon = np.array([])\n",
    "for i in range (len(predict)):\n",
    "    # Sort nonconformity scores\n",
    "    noncon = np.append(noncon, np.abs(predict[i] - Y_valid[i]))"
   ]
  },
  {
   "cell_type": "code",
   "execution_count": 38,
   "id": "5267d210",
   "metadata": {},
   "outputs": [
    {
     "name": "stdout",
     "output_type": "stream",
     "text": [
      "[  2.24446351   6.34763274  53.8996497  106.40841344  20.22066193]\n",
      "[0.1949176  0.55870119 0.61746002 0.81398755 2.23448109]\n"
     ]
    }
   ],
   "source": [
    "print(noncon[:5])\n",
    "# Sort nonconformity scores\n",
    "noncon = np.sort(noncon)\n",
    "print(noncon[:5])"
   ]
  },
  {
   "cell_type": "markdown",
   "id": "d54419f4",
   "metadata": {},
   "source": [
    "## Significance level 5%"
   ]
  },
  {
   "cell_type": "code",
   "execution_count": 39,
   "id": "deaf3295",
   "metadata": {},
   "outputs": [
    {
     "name": "stdout",
     "output_type": "stream",
     "text": [
      "109.54804886985426\n"
     ]
    }
   ],
   "source": [
    "# M = 99\n",
    "# Significance level 5%\n",
    "M = 99\n",
    "s = 0.05\n",
    "k = np.ceil((1-s)*(M+1))\n",
    "k = int(k)\n",
    "c = noncon[k]\n",
    "print (c)"
   ]
  },
  {
   "cell_type": "code",
   "execution_count": 40,
   "id": "6f198bbd",
   "metadata": {},
   "outputs": [
    {
     "name": "stdout",
     "output_type": "stream",
     "text": [
      "Prediction interval = [ 153.23826997338398 , 372.3343677130925 ]\n",
      "Prediction interval = [ 42.34170419572709 , 261.4378019354356 ]\n",
      "Prediction interval = [ 125.55335522902996 , 344.6494529687385 ]\n",
      "Prediction interval = [ 49.327985094500775 , 268.4240828342093 ]\n",
      "Prediction interval = [ -8.475888384638111 , 210.62020935507041 ]\n",
      "Prediction interval = [ -26.201962259408333 , 192.89413548030018 ]\n",
      "Prediction interval = [ 54.50010349794118 , 273.59620123764967 ]\n",
      "Prediction interval = [ 120.17765118024334 , 339.27374891995186 ]\n",
      "Prediction interval = [ 91.52158449416405 , 310.61768223387253 ]\n",
      "Prediction interval = [ 178.64531391917643 , 397.74141165888494 ]\n",
      "Prediction interval = [ 3.0340840315716946 , 222.1301817712802 ]\n",
      "Prediction interval = [ 26.27328790186587 , 245.36938564157438 ]\n",
      "Prediction interval = [ 73.26724036550812 , 292.3633381052166 ]\n",
      "Prediction interval = [ -7.298284325205373 , 211.79781341450314 ]\n",
      "Prediction interval = [ 48.02056052365896 , 267.11665826336747 ]\n",
      "Prediction interval = [ -52.843130093534214 , 166.25296764617428 ]\n",
      "Prediction interval = [ 25.943699323231613 , 245.03979706294012 ]\n",
      "Prediction interval = [ 119.77233951199216 , 338.8684372517007 ]\n",
      "Prediction interval = [ -43.9549860553235 , 175.141111684385 ]\n",
      "Prediction interval = [ -24.385065309792466 , 194.71103242991603 ]\n",
      "Prediction interval = [ 48.81259143307386 , 267.9086891727824 ]\n",
      "Prediction interval = [ 69.39431666327292 , 288.4904144029814 ]\n",
      "Prediction interval = [ 34.12804568052624 , 253.22414342023475 ]\n",
      "Prediction interval = [ 67.11998851178618 , 286.2160862514947 ]\n",
      "Prediction interval = [ 129.0019336647033 , 348.0980314044118 ]\n",
      "Prediction interval = [ 100.1572294329294 , 319.2533271726379 ]\n",
      "Prediction interval = [ 51.766770660462754 , 270.86286840017124 ]\n",
      "Prediction interval = [ 49.6707386759758 , 268.76683641568434 ]\n",
      "Prediction interval = [ 49.919007965977414 , 269.0151057056859 ]\n",
      "Prediction interval = [ 117.55016513168766 , 336.6462628713962 ]\n",
      "Prediction interval = [ 100.90706917574397 , 320.0031669154525 ]\n",
      "Prediction interval = [ 36.77743020736128 , 255.8735279470698 ]\n",
      "Prediction interval = [ 10.012923123355847 , 229.10902086306436 ]\n",
      "Prediction interval = [ 45.20899720722872 , 264.30509494693723 ]\n",
      "Prediction interval = [ -8.37003684813908 , 210.72606089156943 ]\n",
      "Prediction interval = [ 14.752121902760791 , 233.8482196424693 ]\n",
      "Prediction interval = [ 26.81469779240166 , 245.91079553211017 ]\n",
      "Prediction interval = [ -8.228499901431363 , 210.86759783827716 ]\n",
      "Prediction interval = [ 74.99505378198123 , 294.09115152168977 ]\n",
      "Prediction interval = [ 32.20098173054288 , 251.2970794702514 ]\n",
      "Prediction interval = [ 58.62090913286116 , 277.71700687256964 ]\n",
      "Prediction interval = [ 23.361661504490456 , 242.45775924419897 ]\n",
      "Prediction interval = [ -20.649334868983416 , 198.44676287072508 ]\n",
      "Prediction interval = [ -32.0864836757837 , 187.0096140639248 ]\n",
      "Prediction interval = [ 49.37991214373861 , 268.4760098834471 ]\n",
      "Prediction interval = [ 12.514280379029941 , 231.61037811873845 ]\n",
      "Prediction interval = [ 93.46098635544041 , 312.5570840951489 ]\n",
      "Prediction interval = [ 111.44779868165355 , 330.5438964213621 ]\n",
      "Prediction interval = [ 101.60510332876595 , 320.70120106847446 ]\n",
      "Prediction interval = [ -21.741251510651395 , 197.3548462290571 ]\n",
      "Prediction interval = [ 76.6264966212457 , 295.7225943609542 ]\n",
      "Prediction interval = [ 40.29518413563781 , 259.3912818753463 ]\n",
      "Prediction interval = [ 29.395665138436442 , 248.49176287814495 ]\n",
      "Prediction interval = [ -39.184176238012924 , 179.9119215016956 ]\n",
      "Prediction interval = [ 65.11030461255399 , 284.2064023522625 ]\n",
      "Prediction interval = [ 78.07197998938858 , 297.1680777290971 ]\n",
      "Prediction interval = [ 130.48646688708257 , 349.58256462679105 ]\n",
      "Prediction interval = [ 94.89052307638525 , 313.98662081609376 ]\n",
      "Prediction interval = [ -29.27822715622088 , 189.81787058348763 ]\n",
      "Prediction interval = [ 62.954492989703596 , 282.0505907294121 ]\n",
      "Prediction interval = [ 17.518249837533247 , 236.61434757724174 ]\n",
      "Prediction interval = [ 77.89776626795907 , 296.9938640076676 ]\n",
      "Prediction interval = [ 66.56991731710787 , 285.6660150568164 ]\n",
      "Prediction interval = [ -16.96306218065814 , 202.13303555905037 ]\n",
      "Prediction interval = [ 147.55776701512366 , 366.65386475483217 ]\n",
      "Prediction interval = [ 50.192780849626786 , 269.2888785893353 ]\n",
      "Prediction interval = [ -32.15744248340934 , 186.93865525629917 ]\n",
      "Prediction interval = [ 2.6797455942478337 , 221.77584333395635 ]\n",
      "Prediction interval = [ 76.85526505622016 , 295.9513627959287 ]\n",
      "Prediction interval = [ 7.384341383246806 , 226.48043912295532 ]\n",
      "Prediction interval = [ 85.51756821557501 , 304.6136659552835 ]\n",
      "Prediction interval = [ 73.98925912757858 , 293.0853568672871 ]\n",
      "Prediction interval = [ 121.1610867711133 , 340.25718451082184 ]\n",
      "Prediction interval = [ 46.858653668068825 , 265.95475140777734 ]\n",
      "Prediction interval = [ 7.987674937487867 , 227.08377267719638 ]\n",
      "Prediction interval = [ 13.236953279593905 , 232.33305101930242 ]\n",
      "Prediction interval = [ 89.12525669879653 , 308.22135443850505 ]\n",
      "Prediction interval = [ 10.269144311568127 , 229.36524205127665 ]\n",
      "Prediction interval = [ -4.985552486313637 , 214.1105452533949 ]\n",
      "Prediction interval = [ 88.86347431275874 , 307.95957205246725 ]\n",
      "Prediction interval = [ 23.653731243391462 , 242.74982898309997 ]\n",
      "Prediction interval = [ 69.64802717087699 , 288.74412491058547 ]\n",
      "Prediction interval = [ 8.99288839089401 , 228.0889861306025 ]\n",
      "Prediction interval = [ 14.500146435780323 , 233.59624417548883 ]\n",
      "Prediction interval = [ 87.50027399549509 , 306.5963717352036 ]\n",
      "Prediction interval = [ 79.09257183057716 , 298.1886695702857 ]\n",
      "Prediction interval = [ 181.0200307219976 , 400.1161284617061 ]\n",
      "Prediction interval = [ 18.788545580796182 , 237.8846433205047 ]\n",
      "Prediction interval = [ 37.61338562261386 , 256.7094833623224 ]\n",
      "Prediction interval = [ 107.21004297951782 , 326.30614071922633 ]\n",
      "Prediction interval = [ 146.78773938786884 , 365.88383712757735 ]\n",
      "Prediction interval = [ 104.65155813712602 , 323.74765587683453 ]\n",
      "Prediction interval = [ 30.910631459401827 , 250.00672919911034 ]\n",
      "Prediction interval = [ 87.90421544120261 , 307.0003131809111 ]\n",
      "Prediction interval = [ 52.41619664262774 , 271.5122943823362 ]\n",
      "Prediction interval = [ 6.761025748261986 , 225.8571234879705 ]\n",
      "Prediction interval = [ 23.3899412196904 , 242.4860389593989 ]\n",
      "Prediction interval = [ 10.869479267001523 , 229.96557700671002 ]\n",
      "Prediction interval = [ 4.510981068725243 , 223.60707880843376 ]\n",
      "Prediction interval = [ -24.01156719845801 , 195.0845305412505 ]\n",
      "Prediction interval = [ 39.91882780213703 , 259.0149255418455 ]\n",
      "Prediction interval = [ 8.627311788589907 , 227.72340952829842 ]\n",
      "Prediction interval = [ 47.41227987264392 , 266.50837761235243 ]\n",
      "Prediction interval = [ 36.96026449530538 , 256.0563622350139 ]\n",
      "Prediction interval = [ 63.78498199248958 , 282.8810797321981 ]\n",
      "Prediction interval = [ -4.351631246987992 , 214.7444664927205 ]\n",
      "Prediction interval = [ 20.40090589483276 , 239.49700363454127 ]\n",
      "Prediction interval = [ 58.13312819212439 , 277.2292259318329 ]\n",
      "Prediction interval = [ 29.749703637962 , 248.8458013776705 ]\n",
      "Prediction interval = [ -24.96167793486731 , 194.1344198048412 ]\n",
      "Prediction interval = [ 11.627143078586116 , 230.72324081829464 ]\n",
      "Error rate 0.07207207207207207\n"
     ]
    }
   ],
   "source": [
    "test_predict = lasso.predict(X_test)\n",
    "error = 0\n",
    "for n in range (len(test_predict)):\n",
    "    bottom = test_predict[n]-c\n",
    "    top = test_predict[n]+c\n",
    "    print (\"Prediction interval = [\", bottom, \",\", top,\"]\")\n",
    "    if Y_test[n] > top or Y_test[n] < bottom :\n",
    "        error += 1\n",
    "\n",
    "print (\"Error rate\", error / len(test_predict))"
   ]
  },
  {
   "cell_type": "markdown",
   "id": "24e31a47",
   "metadata": {},
   "source": [
    "## Significance level 20%"
   ]
  },
  {
   "cell_type": "code",
   "execution_count": 41,
   "id": "14b4ebf1",
   "metadata": {},
   "outputs": [
    {
     "name": "stdout",
     "output_type": "stream",
     "text": [
      "77.33593891629744\n"
     ]
    }
   ],
   "source": [
    "# M = 99\n",
    "# Significance level 5%\n",
    "M = 99\n",
    "s = 0.2\n",
    "k = np.ceil((1-s)*(M+1))\n",
    "k = int(k)\n",
    "c = noncon[k]\n",
    "print (c)"
   ]
  },
  {
   "cell_type": "code",
   "execution_count": 42,
   "id": "c662701f",
   "metadata": {},
   "outputs": [
    {
     "name": "stdout",
     "output_type": "stream",
     "text": [
      "Prediction interval = [ 185.4503799269408 , 340.12225775953567 ]\n",
      "Prediction interval = [ 74.55381414928391 , 229.22569198187878 ]\n",
      "Prediction interval = [ 157.76546518258678 , 312.4373430151817 ]\n",
      "Prediction interval = [ 81.5400950480576 , 236.21197288065247 ]\n",
      "Prediction interval = [ 23.736221568918708 , 178.4080994015136 ]\n",
      "Prediction interval = [ 6.010147694148486 , 160.68202552674336 ]\n",
      "Prediction interval = [ 86.712213451498 , 241.38409128409288 ]\n",
      "Prediction interval = [ 152.38976113380016 , 307.06163896639504 ]\n",
      "Prediction interval = [ 123.73369444772086 , 278.4055722803157 ]\n",
      "Prediction interval = [ 210.85742387273325 , 365.5293017053281 ]\n",
      "Prediction interval = [ 35.246193985128514 , 189.9180718177234 ]\n",
      "Prediction interval = [ 58.48539785542269 , 213.15727568801756 ]\n",
      "Prediction interval = [ 105.47935031906493 , 260.1512281516598 ]\n",
      "Prediction interval = [ 24.913825628351447 , 179.58570346094632 ]\n",
      "Prediction interval = [ 80.23267047721578 , 234.90454830981065 ]\n",
      "Prediction interval = [ -20.631020139977394 , 134.04085769261746 ]\n",
      "Prediction interval = [ 58.15580927678843 , 212.8276871093833 ]\n",
      "Prediction interval = [ 151.98444946554898 , 306.6563272981439 ]\n",
      "Prediction interval = [ -11.742876101766683 , 142.9290017308282 ]\n",
      "Prediction interval = [ 7.827044643764353 , 162.4989224763592 ]\n",
      "Prediction interval = [ 81.02470138663068 , 235.69657921922555 ]\n",
      "Prediction interval = [ 101.60642661682974 , 256.2783044494246 ]\n",
      "Prediction interval = [ 66.34015563408306 , 221.01203346667793 ]\n",
      "Prediction interval = [ 99.332098465343 , 254.00397629793787 ]\n",
      "Prediction interval = [ 161.21404361826012 , 315.885921450855 ]\n",
      "Prediction interval = [ 132.36933938648622 , 287.0412172190811 ]\n",
      "Prediction interval = [ 83.97888061401957 , 238.65075844661445 ]\n",
      "Prediction interval = [ 81.88284862953262 , 236.5547264621275 ]\n",
      "Prediction interval = [ 82.13111791953423 , 236.8029957521291 ]\n",
      "Prediction interval = [ 149.76227508524448 , 304.43415291783936 ]\n",
      "Prediction interval = [ 133.1191791293008 , 287.79105696189566 ]\n",
      "Prediction interval = [ 68.9895401609181 , 223.66141799351297 ]\n",
      "Prediction interval = [ 42.225033076912666 , 196.89691090950754 ]\n",
      "Prediction interval = [ 77.42110716078554 , 232.0929849933804 ]\n",
      "Prediction interval = [ 23.84207310541774 , 178.5139509380126 ]\n",
      "Prediction interval = [ 46.96423185631761 , 201.63610968891248 ]\n",
      "Prediction interval = [ 59.02680774595848 , 213.69868557855335 ]\n",
      "Prediction interval = [ 23.983610052125456 , 178.65548788472034 ]\n",
      "Prediction interval = [ 107.20716373553805 , 261.87904156813295 ]\n",
      "Prediction interval = [ 64.4130916840997 , 219.08496951669457 ]\n",
      "Prediction interval = [ 90.83301908641798 , 245.50489691901285 ]\n",
      "Prediction interval = [ 55.573771458047275 , 210.24564929064215 ]\n",
      "Prediction interval = [ 11.562775084573403 , 166.23465291716826 ]\n",
      "Prediction interval = [ 0.1256262777731223 , 154.79750411036798 ]\n",
      "Prediction interval = [ 81.59202209729543 , 236.2638999298903 ]\n",
      "Prediction interval = [ 44.72639033258676 , 199.39826816518163 ]\n",
      "Prediction interval = [ 125.67309630899723 , 280.3449741415921 ]\n",
      "Prediction interval = [ 143.65990863521037 , 298.3317864678053 ]\n",
      "Prediction interval = [ 133.81721328232277 , 288.48909111491764 ]\n",
      "Prediction interval = [ 10.470858442905424 , 165.14273627550028 ]\n",
      "Prediction interval = [ 108.83860657480253 , 263.51048440739737 ]\n",
      "Prediction interval = [ 72.50729408919463 , 227.1791719217895 ]\n",
      "Prediction interval = [ 61.60777509199326 , 216.27965292458813 ]\n",
      "Prediction interval = [ -6.972066284456105 , 147.69981154813877 ]\n",
      "Prediction interval = [ 97.32241456611081 , 251.99429239870568 ]\n",
      "Prediction interval = [ 110.2840899429454 , 264.9559677755403 ]\n",
      "Prediction interval = [ 162.6985768406394 , 317.37045467323424 ]\n",
      "Prediction interval = [ 127.10263302994207 , 281.77451086253694 ]\n",
      "Prediction interval = [ 2.93388279733594 , 157.6057606299308 ]\n",
      "Prediction interval = [ 95.16660294326041 , 249.8384807758553 ]\n",
      "Prediction interval = [ 49.730359791090066 , 204.40223762368493 ]\n",
      "Prediction interval = [ 110.10987622151589 , 264.78175405411076 ]\n",
      "Prediction interval = [ 98.78202727066468 , 253.45390510325956 ]\n",
      "Prediction interval = [ 15.249047772898678 , 169.92092560549355 ]\n",
      "Prediction interval = [ 179.76987696868048 , 334.44175480127535 ]\n",
      "Prediction interval = [ 82.4048908031836 , 237.07676863577848 ]\n",
      "Prediction interval = [ 0.054667470147478525 , 154.72654530274235 ]\n",
      "Prediction interval = [ 34.89185554780465 , 189.56373338039953 ]\n",
      "Prediction interval = [ 109.06737500977698 , 263.73925284237185 ]\n",
      "Prediction interval = [ 39.596451336803625 , 194.2683291693985 ]\n",
      "Prediction interval = [ 117.72967816913183 , 272.4015560017267 ]\n",
      "Prediction interval = [ 106.2013690811354 , 260.87324691373027 ]\n",
      "Prediction interval = [ 153.37319672467012 , 308.045074557265 ]\n",
      "Prediction interval = [ 79.07076362162564 , 233.74264145422052 ]\n",
      "Prediction interval = [ 40.199784891044686 , 194.87166272363956 ]\n",
      "Prediction interval = [ 45.449063233150724 , 200.1209410657456 ]\n",
      "Prediction interval = [ 121.33736665235335 , 276.0092444849482 ]\n",
      "Prediction interval = [ 42.481254265124946 , 197.15313209771983 ]\n",
      "Prediction interval = [ 27.226557467243182 , 181.89843529983807 ]\n",
      "Prediction interval = [ 121.07558426631556 , 275.74746209891043 ]\n",
      "Prediction interval = [ 55.86584119694828 , 210.53771902954315 ]\n",
      "Prediction interval = [ 101.8601371244338 , 256.53201495702865 ]\n",
      "Prediction interval = [ 41.20499834445083 , 195.8768761770457 ]\n",
      "Prediction interval = [ 46.71225638933714 , 201.38413422193202 ]\n",
      "Prediction interval = [ 119.71238394905191 , 274.3842617816468 ]\n",
      "Prediction interval = [ 111.30468178413398 , 265.9765596167289 ]\n",
      "Prediction interval = [ 213.23214067555443 , 367.9040185081493 ]\n",
      "Prediction interval = [ 51.000655534353 , 205.67253336694787 ]\n",
      "Prediction interval = [ 69.82549557617068 , 224.49737340876555 ]\n",
      "Prediction interval = [ 139.42215293307464 , 294.0940307656695 ]\n",
      "Prediction interval = [ 178.99984934142566 , 333.67172717402053 ]\n",
      "Prediction interval = [ 136.86366809068284 , 291.5355459232777 ]\n",
      "Prediction interval = [ 63.122741412958646 , 217.79461924555352 ]\n",
      "Prediction interval = [ 120.11632539475943 , 274.7882032273543 ]\n",
      "Prediction interval = [ 84.62830659618456 , 239.30018442877943 ]\n",
      "Prediction interval = [ 38.973135701818805 , 193.6450135344137 ]\n",
      "Prediction interval = [ 55.60205117324722 , 210.2739290058421 ]\n",
      "Prediction interval = [ 43.08158922055834 , 197.7534670531532 ]\n",
      "Prediction interval = [ 36.72309102228206 , 191.39496885487694 ]\n",
      "Prediction interval = [ 8.200542755098809 , 162.87242058769368 ]\n",
      "Prediction interval = [ 72.13093775569385 , 226.80281558828872 ]\n",
      "Prediction interval = [ 40.839421742146726 , 195.5112995747416 ]\n",
      "Prediction interval = [ 79.62438982620074 , 234.2962676587956 ]\n",
      "Prediction interval = [ 69.1723744488622 , 223.84425228145707 ]\n",
      "Prediction interval = [ 95.9970919460464 , 250.66896977864127 ]\n",
      "Prediction interval = [ 27.860478706568827 , 182.5323565391637 ]\n",
      "Prediction interval = [ 52.61301584838958 , 207.28489368098445 ]\n",
      "Prediction interval = [ 90.34523814568121 , 245.01711597827608 ]\n",
      "Prediction interval = [ 61.96181359151882 , 216.6336914241137 ]\n",
      "Prediction interval = [ 7.250432018689509 , 161.92230985128438 ]\n",
      "Prediction interval = [ 43.839253032142935 , 198.51113086473782 ]\n",
      "Error rate 0.15315315315315314\n"
     ]
    }
   ],
   "source": [
    "test_predict = lasso.predict(X_test)\n",
    "error = 0\n",
    "for n in range (len(test_predict)):\n",
    "    bottom = test_predict[n]-c\n",
    "    top = test_predict[n]+c\n",
    "    print (\"Prediction interval = [\", bottom, \",\", top,\"]\")\n",
    "    if Y_test[n] > top or Y_test[n] < bottom :\n",
    "        error += 1\n",
    "\n",
    "print (\"Error rate\", error / len(test_predict))"
   ]
  }
 ],
 "metadata": {
  "kernelspec": {
   "display_name": "Python 3 (ipykernel)",
   "language": "python",
   "name": "python3"
  },
  "language_info": {
   "codemirror_mode": {
    "name": "ipython",
    "version": 3
   },
   "file_extension": ".py",
   "mimetype": "text/x-python",
   "name": "python",
   "nbconvert_exporter": "python",
   "pygments_lexer": "ipython3",
   "version": "3.9.13"
  }
 },
 "nbformat": 4,
 "nbformat_minor": 5
}
