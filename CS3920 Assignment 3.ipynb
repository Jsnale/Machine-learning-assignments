{
 "cells": [
  {
   "cell_type": "markdown",
   "id": "1af3fdc2",
   "metadata": {},
   "source": [
    "# CS3920 - Machine Learning Assignment 3\n",
    "## Wine dataset"
   ]
  },
  {
   "cell_type": "code",
   "execution_count": 1,
   "id": "f5a7f745",
   "metadata": {},
   "outputs": [
    {
     "data": {
      "text/plain": [
       "(178, 13)"
      ]
     },
     "execution_count": 1,
     "metadata": {},
     "output_type": "execute_result"
    }
   ],
   "source": [
    "from sklearn.datasets import load_wine\n",
    "wine = load_wine()\n",
    "wine.data.shape"
   ]
  },
  {
   "cell_type": "markdown",
   "id": "67c73385",
   "metadata": {},
   "source": [
    "### Cross validation and training set"
   ]
  },
  {
   "cell_type": "code",
   "execution_count": 2,
   "id": "8a307831",
   "metadata": {},
   "outputs": [],
   "source": [
    "from sklearn.model_selection import train_test_split\n",
    "X_train, X_test, Y_train, Y_test = train_test_split(wine.data, wine.target, random_state=2406)"
   ]
  },
  {
   "cell_type": "code",
   "execution_count": 3,
   "id": "061105d1",
   "metadata": {},
   "outputs": [
    {
     "name": "stdout",
     "output_type": "stream",
     "text": [
      "0.72 accuracy with a standard deviation of 0.07\n"
     ]
    }
   ],
   "source": [
    "from sklearn.svm import SVC\n",
    "from sklearn.model_selection import cross_val_score\n",
    "svm = SVC() #Default C=1 & gamma=1/n_features\n",
    "svm.fit(X_train, Y_train)\n",
    "scores = cross_val_score (svm, X_train, Y_train) # Default cv=5\n",
    "print(\"%0.2f accuracy with a standard deviation of %0.2f\" % (scores.mean(), scores.std())) # 0.2f = 2dp"
   ]
  },
  {
   "cell_type": "code",
   "execution_count": 4,
   "id": "a78c3d33",
   "metadata": {},
   "outputs": [
    {
     "name": "stdout",
     "output_type": "stream",
     "text": [
      "Error rate 0.33\n",
      "Accuracy 0.6666666666666667\n"
     ]
    }
   ],
   "source": [
    "import numpy as np\n",
    "# Find error rate\n",
    "pred = svm.predict(X_test)\n",
    "error_rate = (np.mean(pred != Y_test))\n",
    "print (\"Error rate %0.2f\" %(error_rate))\n",
    "print (\"Accuracy\",1-error_rate)"
   ]
  },
  {
   "cell_type": "markdown",
   "id": "37c72bb3",
   "metadata": {},
   "source": [
    "From alrually running and obtaining the error rate of the test SVM with default parameters, we can see that the estimated accuracy was correct. This is because the accuracy of the SVM on the test set was 67% this is within the standard deviation of the predicted accuracy of 72%, as its close.\n",
    "\n",
    "The error rate of 33%, however can be improved on by introducing data preprocessing\n",
    "Also data leakage can be avoided by using pipelines"
   ]
  },
  {
   "cell_type": "markdown",
   "id": "32bf6e60",
   "metadata": {},
   "source": [
    "### Pipelines"
   ]
  },
  {
   "cell_type": "code",
   "execution_count": 5,
   "id": "48bb498e",
   "metadata": {},
   "outputs": [
    {
     "name": "stdout",
     "output_type": "stream",
     "text": [
      "Best cross-validation accuracy: 1.0\n",
      "Best test set score: 0.9555555555555556\n",
      "Best parameters Pipeline(steps=[('minmaxscaler', MinMaxScaler()), ('svc', SVC(C=1, gamma=1))])\n"
     ]
    }
   ],
   "source": [
    "from sklearn.pipeline import make_pipeline\n",
    "from sklearn.model_selection import GridSearchCV\n",
    "from sklearn.preprocessing import MinMaxScaler\n",
    "pipe = make_pipeline(MinMaxScaler(),SVC())\n",
    "\n",
    "param_grid = {'svc__C': [0.01, 0.1, 1, 10 , 100], 'svc__gamma': [0.001, 0.01, 0.1, 1, 10, 100]}            \n",
    "grid = GridSearchCV(pipe, param_grid=param_grid)\n",
    "grid.fit(X_train, Y_train)\n",
    "print (\"Best cross-validation accuracy:\", grid.best_score_)\n",
    "print (\"Best test set score:\", grid.score(X_test, Y_test))\n",
    "print (\"Best parameters\", grid.best_estimator_)"
   ]
  },
  {
   "cell_type": "code",
   "execution_count": 6,
   "id": "f5bea438",
   "metadata": {},
   "outputs": [
    {
     "name": "stdout",
     "output_type": "stream",
     "text": [
      "Best score = 1\n",
      "best parameters = Pipeline(steps=[('minmaxscaler', MinMaxScaler()), ('svc', SVC(C=1, gamma=1))])\n"
     ]
    }
   ],
   "source": [
    "from sklearn.model_selection import GridSearchCV\n",
    "from sklearn.preprocessing import MinMaxScaler\n",
    "from sklearn.preprocessing import StandardScaler\n",
    "from sklearn.preprocessing import RobustScaler\n",
    "from sklearn.preprocessing import Normalizer\n",
    "best_score = 0\n",
    "best_parameters= 0\n",
    "\n",
    "# Loop thorugh Normalisation types\n",
    "for norm in [MinMaxScaler(), StandardScaler(), RobustScaler(), Normalizer()]:\n",
    "    pipe = make_pipeline(norm,SVC())\n",
    "    # Loop through SVM parameters\n",
    "    param_grid = {'svc__C': [0.01, 0.1, 1, 10 , 100], 'svc__gamma': [0.001, 0.01, 0.1, 1, 10, 100]}            \n",
    "    grid = GridSearchCV(pipe, param_grid=param_grid, cv=5)\n",
    "    grid.fit(X_train, Y_train)\n",
    "    if best_score < int(grid.best_score_):\n",
    "        # Save best parameters and type\n",
    "        best_score = int(grid.best_score_)\n",
    "        best_parameters = grid.best_estimator_\n",
    "        \n",
    "# Results with best parameters\n",
    "print (\"Best score =\", best_score)\n",
    "print (\"best parameters =\", best_parameters)"
   ]
  },
  {
   "cell_type": "markdown",
   "id": "589d4d9a",
   "metadata": {},
   "source": [
    "From looking at the results of the grid search, its infers that MinMaxScaler is the most suitable normalisation method because it has the highest score with the training set."
   ]
  },
  {
   "cell_type": "markdown",
   "id": "a1e76ab7",
   "metadata": {},
   "source": [
    "### Predicting with grid search"
   ]
  },
  {
   "cell_type": "code",
   "execution_count": 7,
   "id": "803d9f52",
   "metadata": {},
   "outputs": [
    {
     "name": "stdout",
     "output_type": "stream",
     "text": [
      "Error rate for MinMaxScaler 0.04\n"
     ]
    }
   ],
   "source": [
    "pipe = make_pipeline(MinMaxScaler(), SVC())\n",
    "param_grid = {'svc__C': [0.01, 0.1, 1, 10 , 100], 'svc__gamma': [0.001, 0.01, 0.1, 1, 10, 100]}\n",
    "grid = GridSearchCV(pipe, param_grid=param_grid, cv=5)\n",
    "grid.fit(X_train, Y_train)\n",
    "\n",
    "preds = grid.predict(X_test) # Uses grid.best to predict labels\n",
    "grid_error = (np.mean(preds != Y_test))\n",
    "print (\"Error rate for MinMaxScaler %0.2f\" %(grid_error))"
   ]
  },
  {
   "cell_type": "code",
   "execution_count": 8,
   "id": "f38523e2",
   "metadata": {},
   "outputs": [
    {
     "name": "stdout",
     "output_type": "stream",
     "text": [
      "Error rate for StandardScaler 0.04\n"
     ]
    }
   ],
   "source": [
    "pipe = make_pipeline(StandardScaler(), SVC())\n",
    "param_grid = {'svc__C': [0.01, 0.1, 1, 10 , 100], 'svc__gamma': [0.001, 0.01, 0.1, 1, 10, 100]}\n",
    "grid = GridSearchCV(pipe, param_grid=param_grid, cv=5)\n",
    "grid.fit(X_train, Y_train)\n",
    "\n",
    "preds = grid.predict(X_test) # Uses grid.best to predict labels\n",
    "grid_error = (np.mean(preds != Y_test))\n",
    "print (\"Error rate for StandardScaler %0.2f\" %(grid_error))"
   ]
  },
  {
   "cell_type": "markdown",
   "id": "f72030d1",
   "metadata": {},
   "source": [
    "### Cross-confromal predictor"
   ]
  },
  {
   "cell_type": "code",
   "execution_count": 9,
   "id": "854d436a",
   "metadata": {},
   "outputs": [],
   "source": [
    "from sklearn.model_selection import KFold\n",
    "kf = KFold(shuffle=True, random_state=2406) # Deafult 5 folds\n",
    "\n",
    "# Split training set into K folds\n",
    "best_score=0\n",
    "best_X_rest=0\n",
    "best_Y_rest=0\n",
    "best_X_fold=0\n",
    "best_Y_fold=0\n",
    "\n",
    "#Find best fold\n",
    "for rest_index, fold_index in kf.split(wine.data):\n",
    "    X_rest, X_fold = wine.data[rest_index], wine.data[fold_index]\n",
    "    Y_rest, Y_fold = wine.target[rest_index], wine.target[fold_index]\n",
    "    # X_fold, Y_fold = current fold\n",
    "    # X_rest, Y_fold = other folds\n",
    "\n",
    "    grid.fit(X_rest, Y_rest)\n",
    "    if grid.score(X_fold, Y_fold) > best_score:\n",
    "        best_score = grid.score(X_fold, Y_fold)\n",
    "        best_X_fold = X_fold\n",
    "        best_Y_fold = Y_fold\n",
    "        best_X_rest = X_rest\n",
    "        best_Y_rest = Y_rest          "
   ]
  },
  {
   "cell_type": "code",
   "execution_count": 10,
   "id": "7a1be41b",
   "metadata": {},
   "outputs": [
    {
     "data": {
      "text/plain": [
       "array([[ 2.25701252,  0.90672374, -0.24955956],\n",
       "       [ 2.25984442,  0.77910579, -0.20369542],\n",
       "       [ 2.26193829,  0.81626382, -0.23645247],\n",
       "       [ 2.23993588,  0.93296468, -0.23284838],\n",
       "       [ 2.22043861,  1.09642193, -0.23411515],\n",
       "       [ 2.23141214,  1.1489927 , -0.2516089 ],\n",
       "       [ 2.24293716,  0.86908686, -0.22371061],\n",
       "       [ 2.22087091,  1.06199402, -0.22891957],\n",
       "       [ 2.27149544,  0.81373384, -0.2525037 ],\n",
       "       [ 2.22664505,  1.18781307, -0.25783312],\n",
       "       [ 2.26704248,  0.83628153, -0.25129435],\n",
       "       [ 2.24704489,  0.863411  , -0.22813993],\n",
       "       [ 2.25736183,  0.84057597, -0.23729683],\n",
       "       [ 2.26397274,  0.81584161, -0.23999637],\n",
       "       [ 1.08456579,  2.26519573, -0.26962284],\n",
       "       [ 1.12549227,  2.23329208, -0.24863957],\n",
       "       [ 0.79915634,  2.26960426, -0.24359626],\n",
       "       [ 1.01424589,  2.24781138, -0.2487799 ],\n",
       "       [ 1.13963654,  2.24306245, -0.25780735],\n",
       "       [-0.23363039,  2.26701793,  0.79089552],\n",
       "       [ 0.8663196 ,  2.2657591 , -0.25514633],\n",
       "       [-0.19149586,  2.18353521,  1.03700822],\n",
       "       [ 0.88941751,  2.26398811, -0.25600149],\n",
       "       [-0.23219809,  2.25496559,  0.83694895],\n",
       "       [ 1.14726781,  2.2491007 , -0.26313984],\n",
       "       [ 0.81508529,  2.26717664, -0.24544388],\n",
       "       [-0.2040917 ,  2.23485172,  0.85127972],\n",
       "       [-0.26028804,  0.95331074,  2.26280542],\n",
       "       [-0.25988986,  1.164355  ,  2.23985787],\n",
       "       [-0.23406312,  0.8208168 ,  2.25959081],\n",
       "       [-0.19741095,  0.77698321,  2.25882858],\n",
       "       [ 0.83235434, -0.24479773,  2.26355133],\n",
       "       [-0.25480098,  1.15134509,  2.23566511],\n",
       "       [-0.21178314,  0.76517599,  2.26830697],\n",
       "       [-0.22338236,  0.76136397,  2.27329103]])"
      ]
     },
     "execution_count": 10,
     "metadata": {},
     "output_type": "execute_result"
    }
   ],
   "source": [
    "# Refit with best fold\n",
    "# rest = training, fold = test\n",
    "grid.fit(best_X_rest, best_Y_rest)\n",
    "score_dec=grid.decision_function(best_X_fold)\n",
    "score_dec"
   ]
  },
  {
   "cell_type": "markdown",
   "id": "52d51161",
   "metadata": {},
   "source": [
    "Run through black box from Lab 9 to plot graph and find false p value"
   ]
  },
  {
   "cell_type": "code",
   "execution_count": 11,
   "id": "3794c303",
   "metadata": {},
   "outputs": [],
   "source": [
    "import math\n",
    "def dist(x1,x2):\n",
    "    return np.linalg.norm(x1-x2)\n",
    "\n",
    "n_train = best_X_rest.shape[0]\n",
    "n_test = best_X_fold.shape[0]\n",
    "dist_own = math.inf * np.ones(n_train) # Infinity array size of len samples\n",
    "dist_other = math.inf * np.ones(n_train)\n",
    "\n",
    "for i in range(n_train-1):\n",
    "    for j in range(i+1,n_train):\n",
    "        current_dist = dist(best_X_rest[i],best_X_rest[j])\n",
    "        if best_Y_rest[i]==best_Y_rest[j]:\n",
    "            if (current_dist < dist_own[i]):\n",
    "                dist_own[i] = current_dist\n",
    "            if (current_dist < dist_own[j]):\n",
    "                dist_own[j] = current_dist\n",
    "        else:\n",
    "            if (current_dist < dist_other[i]):\n",
    "                dist_other[i] = current_dist\n",
    "            if (current_dist < dist_other[j]):\n",
    "                dist_other[j] = current_dist"
   ]
  },
  {
   "cell_type": "code",
   "execution_count": 12,
   "id": "fec777d7",
   "metadata": {},
   "outputs": [],
   "source": [
    "score = np.zeros(n_train+1) # Conformity scores\n",
    "p = np.zeros((n_test,3)) # 2d array of zeros width of 3 length n_test\n",
    "\n",
    "for j in range(n_test):\n",
    "    for l in range(3): # postulated label\n",
    "        aug_dist_own = np.append(dist_own,math.inf)\n",
    "        aug_dist_other = np.append(dist_other,math.inf)\n",
    "        for i in range(n_train):\n",
    "            current_dist = dist(best_X_rest[i],best_X_fold[j])\n",
    "            if best_Y_rest[i]==l:\n",
    "                if (current_dist < aug_dist_own[i]):\n",
    "                    aug_dist_own[i] = current_dist\n",
    "                if (current_dist < aug_dist_own[n_train]):\n",
    "                    aug_dist_own[n_train] = current_dist\n",
    "            else:\n",
    "                if (current_dist < aug_dist_other[i]):\n",
    "                    aug_dist_other[i] = current_dist\n",
    "                if (current_dist < aug_dist_other[n_train]):\n",
    "                    aug_dist_other[n_train] = current_dist\n",
    "            # the following for loop is the careful version\n",
    "            # of score = aug dist other / aug distance own\n",
    "            for i in range(n_train+1):\n",
    "                if aug_dist_own[i] == 0:\n",
    "                    score[i] = math.inf\n",
    "                    if (aug_dist_other[i] == 0):\n",
    "                        score[i] = 0\n",
    "                else:\n",
    "                    score[i] = aug_dist_other[i] / aug_dist_own[i]\n",
    "            p[j,l] = np.mean(score<=score[n_train]) # the p-value of l"
   ]
  },
  {
   "cell_type": "code",
   "execution_count": 13,
   "id": "8506ee23",
   "metadata": {},
   "outputs": [
    {
     "data": {
      "text/plain": [
       "[<matplotlib.lines.Line2D at 0x1941addf910>]"
      ]
     },
     "execution_count": 13,
     "metadata": {},
     "output_type": "execute_result"
    },
    {
     "data": {
      "image/png": "[encoded data removed]",
      "text/plain": [
       "<Figure size 640x480 with 1 Axes>"
      ]
     },
     "metadata": {},
     "output_type": "display_data"
    }
   ],
   "source": [
    "%matplotlib inline\n",
    "import matplotlib.pyplot as plt\n",
    "eps = np.zeros(100) # a range of significance levels\n",
    "err = np.zeros(100) # the corresponding error rates\n",
    "for k in range(100):\n",
    "    eps[k] = k/100 # considering eps = k%\n",
    "    err[k] = 0 # initializing the error rate\n",
    "    for j in range(n_test):\n",
    "        if (p[j,best_Y_fold[j]] <= eps[k]): # if we made an error\n",
    "            err[k] = err[k] + 1 # count this error\n",
    "    err[k] = err[k] / n_test # number of errors -> error rate\n",
    "plt.plot(eps,err)"
   ]
  },
  {
   "cell_type": "code",
   "execution_count": 14,
   "id": "c0b56da0",
   "metadata": {},
   "outputs": [],
   "source": [
    "# False P value\n",
    "def falsep (p,fold):\n",
    "    a=np.array([0]*len(p),dtype=float)\n",
    "    \n",
    "    for i in range(len(p)):    \n",
    "        snip = p[i]\n",
    "        snip = np.delete(snip, fold[i]) #Take mean of P values minus true label\n",
    "        a[i] = np.mean(snip)\n",
    "    return np.mean(a)"
   ]
  },
  {
   "cell_type": "code",
   "execution_count": 15,
   "id": "9acaf3ea",
   "metadata": {},
   "outputs": [
    {
     "data": {
      "text/plain": [
       "0.08482142857142858"
      ]
     },
     "execution_count": 15,
     "metadata": {},
     "output_type": "execute_result"
    }
   ],
   "source": [
    "falsep(p,best_Y_fold)"
   ]
  },
  {
   "cell_type": "markdown",
   "id": "3284cd3c",
   "metadata": {},
   "source": [
    "## Neural networks\n",
    "\n",
    "### Cross val"
   ]
  },
  {
   "cell_type": "code",
   "execution_count": 16,
   "id": "9e0b78b0",
   "metadata": {},
   "outputs": [],
   "source": [
    "from sklearn.model_selection import train_test_split\n",
    "X_train, X_test, Y_train, Y_test = train_test_split(wine.data, wine.target, random_state=2406)"
   ]
  },
  {
   "cell_type": "code",
   "execution_count": 17,
   "id": "2206bb6a",
   "metadata": {},
   "outputs": [
    {
     "name": "stderr",
     "output_type": "stream",
     "text": [
      "D:\\Uni\\Anaconda\\lib\\site-packages\\sklearn\\neural_network\\_multilayer_perceptron.py:692: ConvergenceWarning: Stochastic Optimizer: Maximum iterations (200) reached and the optimization hasn't converged yet.\n",
      "  warnings.warn(\n",
      "D:\\Uni\\Anaconda\\lib\\site-packages\\sklearn\\neural_network\\_multilayer_perceptron.py:692: ConvergenceWarning: Stochastic Optimizer: Maximum iterations (200) reached and the optimization hasn't converged yet.\n",
      "  warnings.warn(\n",
      "D:\\Uni\\Anaconda\\lib\\site-packages\\sklearn\\neural_network\\_multilayer_perceptron.py:692: ConvergenceWarning: Stochastic Optimizer: Maximum iterations (200) reached and the optimization hasn't converged yet.\n",
      "  warnings.warn(\n"
     ]
    },
    {
     "name": "stdout",
     "output_type": "stream",
     "text": [
      "0.78 accuracy with a standard deviation of 0.23\n"
     ]
    },
    {
     "name": "stderr",
     "output_type": "stream",
     "text": [
      "D:\\Uni\\Anaconda\\lib\\site-packages\\sklearn\\neural_network\\_multilayer_perceptron.py:692: ConvergenceWarning: Stochastic Optimizer: Maximum iterations (200) reached and the optimization hasn't converged yet.\n",
      "  warnings.warn(\n",
      "D:\\Uni\\Anaconda\\lib\\site-packages\\sklearn\\neural_network\\_multilayer_perceptron.py:692: ConvergenceWarning: Stochastic Optimizer: Maximum iterations (200) reached and the optimization hasn't converged yet.\n",
      "  warnings.warn(\n"
     ]
    }
   ],
   "source": [
    "from sklearn.neural_network import MLPClassifier\n",
    "mlp = MLPClassifier() #Default MLP classifier\n",
    "mlp.fit(X_train, Y_train)\n",
    "scores = cross_val_score (mlp, X_train, Y_train)\n",
    "print(\"%0.2f accuracy with a standard deviation of %0.2f\" % (scores.mean(), scores.std())) # 0.2f = 2dp"
   ]
  },
  {
   "cell_type": "code",
   "execution_count": 18,
   "id": "95fd2d2c",
   "metadata": {},
   "outputs": [
    {
     "name": "stdout",
     "output_type": "stream",
     "text": [
      "Error rate 0.11\n",
      "Accuracy 0.8888888888888888\n"
     ]
    }
   ],
   "source": [
    "# Error rate\n",
    "pred = mlp.predict(X_test)\n",
    "error_rate = (np.mean(pred != Y_test))\n",
    "print (\"Error rate %0.2f\" %(error_rate))\n",
    "print (\"Accuracy\", 1-error_rate)"
   ]
  },
  {
   "cell_type": "markdown",
   "id": "7fb3d42f",
   "metadata": {},
   "source": [
    "### Pipelines"
   ]
  },
  {
   "cell_type": "code",
   "execution_count": 19,
   "id": "565ac2eb",
   "metadata": {},
   "outputs": [
    {
     "name": "stdout",
     "output_type": "stream",
     "text": [
      "Best cross-validation accuracy: 0.97008547008547\n",
      "Best test set score: 0.9333333333333333\n",
      "Best parameters MLPClassifier(activation='tanh', hidden_layer_sizes=100, max_iter=1000)\n"
     ]
    }
   ],
   "source": [
    "from sklearn.neural_network import MLPClassifier\n",
    "mlp = MLPClassifier(max_iter=1000)\n",
    "param_grid = {'activation': ['identity', 'logistic', 'tanh', 'relu'], 'hidden_layer_sizes': [2,10, 100, 1000, (10,10)],\n",
    "             'solver' : ['sgd', 'adam']}            \n",
    "grid = GridSearchCV(mlp, param_grid=param_grid, n_jobs = -1)\n",
    "\n",
    "grid.fit(X_train, Y_train)\n",
    "print (\"Best cross-validation accuracy:\", grid.best_score_)\n",
    "print (\"Best test set score:\", grid.score(X_test, Y_test))\n",
    "print (\"Best parameters\", grid.best_estimator_)"
   ]
  },
  {
   "cell_type": "code",
   "execution_count": 20,
   "id": "7435e742",
   "metadata": {},
   "outputs": [
    {
     "name": "stdout",
     "output_type": "stream",
     "text": [
      "Best score = 0.9925925925925926\n",
      "best parameters = Pipeline(steps=[('scaler', MinMaxScaler()),\n",
      "                ('mlp', MLPClassifier(activation='tanh', max_iter=1000))])\n"
     ]
    },
    {
     "name": "stderr",
     "output_type": "stream",
     "text": [
      "D:\\Uni\\Anaconda\\lib\\site-packages\\sklearn\\neural_network\\_multilayer_perceptron.py:692: ConvergenceWarning: Stochastic Optimizer: Maximum iterations (1000) reached and the optimization hasn't converged yet.\n",
      "  warnings.warn(\n"
     ]
    }
   ],
   "source": [
    "from sklearn.pipeline import Pipeline\n",
    "best_parameters= 0\n",
    "best_score=float(0)\n",
    "mlp = MLPClassifier(max_iter=1000)\n",
    "\n",
    "# Loop thorugh Normalisation types\n",
    "for norm in [MinMaxScaler(), StandardScaler(), RobustScaler(), Normalizer()]:\n",
    "    pipe = Pipeline([(\"scaler\", norm), (\"mlp\", mlp)])\n",
    "    # Loop through mlp parameters\n",
    "    param_grid = {'mlp__activation': ['identity', 'logistic', 'tanh', 'relu'] }            \n",
    "    grid = GridSearchCV(pipe, param_grid=param_grid, n_jobs = -1)\n",
    "    grid.fit(X_train, Y_train)\n",
    "    if best_score < float(grid.best_score_):\n",
    "        # Save best parameters and type\n",
    "        best_score = float(grid.best_score_)\n",
    "        best_parameters = grid.best_estimator_\n",
    "        \n",
    "# Results with best parameters\n",
    "print (\"Best score =\", best_score)\n",
    "print (\"best parameters =\", best_parameters)"
   ]
  },
  {
   "cell_type": "code",
   "execution_count": 21,
   "id": "7f349819",
   "metadata": {},
   "outputs": [
    {
     "name": "stdout",
     "output_type": "stream",
     "text": [
      "Error rate for MinMaxScaler 0.04\n"
     ]
    }
   ],
   "source": [
    "pipe = Pipeline([(\"scaler\", MinMaxScaler()), (\"mlp\", mlp)])\n",
    "param_grid = {'mlp__activation': ['identity', 'logistic', 'tanh', 'relu'],\n",
    "            'mlp__solver' : ['sgd', 'adam']}            \n",
    "grid = GridSearchCV(pipe, param_grid=param_grid, n_jobs = -1)\n",
    "grid.fit(X_train, Y_train)\n",
    "\n",
    "preds = grid.predict(X_test) # Uses grid.best to predict labels\n",
    "grid_error = (np.mean(preds != Y_test))\n",
    "print (\"Error rate for MinMaxScaler %0.2f\" %(grid_error))"
   ]
  },
  {
   "cell_type": "code",
   "execution_count": 22,
   "id": "5085b3f8",
   "metadata": {},
   "outputs": [
    {
     "name": "stdout",
     "output_type": "stream",
     "text": [
      "Error rate for StandardScaler 0.07\n"
     ]
    },
    {
     "name": "stderr",
     "output_type": "stream",
     "text": [
      "D:\\Uni\\Anaconda\\lib\\site-packages\\sklearn\\neural_network\\_multilayer_perceptron.py:692: ConvergenceWarning: Stochastic Optimizer: Maximum iterations (1000) reached and the optimization hasn't converged yet.\n",
      "  warnings.warn(\n"
     ]
    }
   ],
   "source": [
    "pipe = Pipeline([(\"scaler\", StandardScaler()), (\"mlp\", mlp)])\n",
    "param_grid = {'mlp__activation': ['identity', 'logistic', 'tanh', 'relu'],\n",
    "            'mlp__solver' : ['sgd', 'adam']}            \n",
    "grid = GridSearchCV(pipe, param_grid=param_grid, n_jobs = -1)\n",
    "grid.fit(X_train, Y_train)\n",
    "\n",
    "preds = grid.predict(X_test) # Uses grid.best to predict labels\n",
    "grid_error = (np.mean(preds != Y_test))\n",
    "print (\"Error rate for StandardScaler %0.2f\" %(grid_error))"
   ]
  },
  {
   "cell_type": "markdown",
   "id": "3b0f1f71",
   "metadata": {},
   "source": [
    "## USPS dataset"
   ]
  },
  {
   "cell_type": "code",
   "execution_count": 23,
   "id": "1e0312e0",
   "metadata": {},
   "outputs": [],
   "source": [
    "import gzip\n",
    "with gzip.open('zip.train.gz','rb') as f:\n",
    "    content = f.read()"
   ]
  },
  {
   "cell_type": "code",
   "execution_count": 24,
   "id": "8b0ea060",
   "metadata": {},
   "outputs": [],
   "source": [
    "# content"
   ]
  },
  {
   "cell_type": "code",
   "execution_count": 25,
   "id": "bf40d7e9",
   "metadata": {},
   "outputs": [],
   "source": [
    "# Load files\n",
    "Y_train = np.genfromtxt(\"zip.train.gz\", delimiter=\" \",  dtype='int', usecols=0) \n",
    "X_train = np.genfromtxt(\"zip.train.gz\", delimiter=\" \",  usecols=[*range(1,257)])\n",
    "\n",
    "Y_test = np.genfromtxt(\"zip.test.gz\", delimiter=\" \",  dtype='int', usecols=0) \n",
    "X_test = np.genfromtxt(\"zip.test.gz\", delimiter=\" \",  usecols=[*range(1,257)]) \n",
    "\n",
    "# Merge into one dataset\n",
    "data = np.array(X_train)\n",
    "data = np.concatenate((data,X_test))\n",
    "target = np.array(Y_train)\n",
    "target = np.concatenate((target,Y_test))"
   ]
  },
  {
   "cell_type": "markdown",
   "id": "baa8a94f",
   "metadata": {},
   "source": [
    "### Cross validation"
   ]
  },
  {
   "cell_type": "code",
   "execution_count": 26,
   "id": "be02a92a",
   "metadata": {},
   "outputs": [
    {
     "name": "stdout",
     "output_type": "stream",
     "text": [
      "0.97 accuracy with a standard deviation of 0.01\n"
     ]
    }
   ],
   "source": [
    "from sklearn.model_selection import train_test_split\n",
    "X_train, X_test, Y_train, Y_test = train_test_split(data, target, random_state=2406)\n",
    "\n",
    "from sklearn.svm import SVC\n",
    "from sklearn.model_selection import cross_val_score\n",
    "svm = SVC() #Default C=1 & gamma=1/n_features\n",
    "svm.fit(X_train, Y_train)\n",
    "scores = cross_val_score (svm, X_train, Y_train) # Default cv=5\n",
    "print(\"%0.2f accuracy with a standard deviation of %0.2f\" % (scores.mean(), scores.std())) # 0.2f = 2dp"
   ]
  },
  {
   "cell_type": "code",
   "execution_count": 27,
   "id": "59739e9b",
   "metadata": {},
   "outputs": [
    {
     "name": "stdout",
     "output_type": "stream",
     "text": [
      "Error rate 0.03\n",
      "Accuracy 0.9746236559139785\n"
     ]
    }
   ],
   "source": [
    "import numpy as np\n",
    "# Find error rate\n",
    "pred = svm.predict(X_test)\n",
    "error_rate = (np.mean(pred != Y_test))\n",
    "print (\"Error rate %0.2f\" %(error_rate))\n",
    "print (\"Accuracy\",1-error_rate)"
   ]
  },
  {
   "cell_type": "markdown",
   "id": "2ebb49ed",
   "metadata": {},
   "source": [
    "### Pipelines"
   ]
  },
  {
   "cell_type": "code",
   "execution_count": 28,
   "id": "6aacc868",
   "metadata": {},
   "outputs": [
    {
     "name": "stdout",
     "output_type": "stream",
     "text": [
      "Best cross-validation accuracy: 0.968880969644611\n",
      "Best test set score: 0.9746236559139785\n",
      "Best parameters Pipeline(steps=[('minmaxscaler', MinMaxScaler()),\n",
      "                ('svc', SVC(C=10, gamma=0.01))])\n"
     ]
    }
   ],
   "source": [
    "from sklearn.pipeline import make_pipeline\n",
    "from sklearn.model_selection import GridSearchCV\n",
    "from sklearn.preprocessing import MinMaxScaler\n",
    "pipe = make_pipeline(MinMaxScaler(),SVC())\n",
    "\n",
    "param_grid = {'svc__C': [0.01, 0.1, 1, 10 , 100], 'svc__gamma': [0.001, 0.01, 0.1, 1, 10, 100]}            \n",
    "grid = GridSearchCV(pipe, param_grid=param_grid, n_jobs=-1)\n",
    "grid.fit(X_train, Y_train)\n",
    "print (\"Best cross-validation accuracy:\", grid.best_score_)\n",
    "print (\"Best test set score:\", grid.score(X_test, Y_test))\n",
    "print (\"Best parameters\", grid.best_estimator_)"
   ]
  },
  {
   "cell_type": "code",
   "execution_count": 32,
   "id": "bed984b6",
   "metadata": {},
   "outputs": [
    {
     "name": "stdout",
     "output_type": "stream",
     "text": [
      "Best score = 0.9727529658598295\n",
      "best parameters = Pipeline(steps=[('normalizer', Normalizer()), ('svc', SVC(C=10, gamma=1))])\n"
     ]
    }
   ],
   "source": [
    "from sklearn.model_selection import GridSearchCV\n",
    "from sklearn.preprocessing import MinMaxScaler\n",
    "from sklearn.preprocessing import StandardScaler\n",
    "from sklearn.preprocessing import RobustScaler\n",
    "from sklearn.preprocessing import Normalizer\n",
    "best_score = 0\n",
    "best_score=float(0)\n",
    "\n",
    "# Loop thorugh Normalisation types\n",
    "for norm in [MinMaxScaler(), StandardScaler(), RobustScaler(), Normalizer()]:\n",
    "    pipe = make_pipeline(norm,SVC())\n",
    "    # Loop through SVM parameters\n",
    "    param_grid = {'svc__C': [0.01, 0.1, 1, 10 , 100], 'svc__gamma': [0.001, 0.01, 0.1, 1, 10, 100]}            \n",
    "    grid = GridSearchCV(pipe, param_grid=param_grid, cv=5, n_jobs=-1)\n",
    "    grid.fit(X_train, Y_train)\n",
    "    if best_score < float(grid.best_score_):\n",
    "        # Save best parameters and type\n",
    "        best_score = float(grid.best_score_)\n",
    "        best_parameters = grid.best_estimator_\n",
    "        \n",
    "# Results with best parameters\n",
    "print (\"Best score =\", best_score)\n",
    "print (\"best parameters =\", best_parameters)"
   ]
  },
  {
   "cell_type": "markdown",
   "id": "b8ee898a",
   "metadata": {},
   "source": [
    "### Predicting with grid search"
   ]
  },
  {
   "cell_type": "code",
   "execution_count": 33,
   "id": "cdef5be8",
   "metadata": {},
   "outputs": [
    {
     "name": "stdout",
     "output_type": "stream",
     "text": [
      "Error rate for MinMaxScaler 0.03\n"
     ]
    }
   ],
   "source": [
    "pipe = make_pipeline(MinMaxScaler(), SVC())\n",
    "param_grid = {'svc__C': [0.01, 0.1, 1, 10 , 100], 'svc__gamma': [0.001, 0.01, 0.1, 1, 10, 100]}\n",
    "grid = GridSearchCV(pipe, param_grid=param_grid, cv=5, n_jobs=-1)\n",
    "grid.fit(X_train, Y_train)\n",
    "\n",
    "preds = grid.predict(X_test) # Uses grid.best to predict labels\n",
    "grid_error = (np.mean(preds != Y_test))\n",
    "print (\"Error rate for MinMaxScaler %0.2f\" %(grid_error))"
   ]
  },
  {
   "cell_type": "code",
   "execution_count": 34,
   "id": "8d57e3ad",
   "metadata": {},
   "outputs": [
    {
     "name": "stdout",
     "output_type": "stream",
     "text": [
      "Error rate for StandardScaler 0.03\n"
     ]
    }
   ],
   "source": [
    "pipe = make_pipeline(StandardScaler(), SVC())\n",
    "param_grid = {'svc__C': [0.01, 0.1, 1, 10 , 100], 'svc__gamma': [0.001, 0.01, 0.1, 1, 10, 100]}\n",
    "grid = GridSearchCV(pipe, param_grid=param_grid, cv=5, n_jobs=-1)\n",
    "grid.fit(X_train, Y_train)\n",
    "\n",
    "preds = grid.predict(X_test) # Uses grid.best to predict labels\n",
    "grid_error = (np.mean(preds != Y_test))\n",
    "print (\"Error rate for StandardScaler %0.2f\" %(grid_error))"
   ]
  },
  {
   "cell_type": "markdown",
   "id": "61c9e09c",
   "metadata": {},
   "source": [
    "### Cross-conformal predictor"
   ]
  },
  {
   "cell_type": "code",
   "execution_count": 35,
   "id": "a89f6d74",
   "metadata": {},
   "outputs": [
    {
     "name": "stderr",
     "output_type": "stream",
     "text": [
      "D:\\Uni\\Anaconda\\lib\\site-packages\\sklearn\\model_selection\\_split.py:676: UserWarning: The least populated class in y has only 3 members, which is less than n_splits=5.\n",
      "  warnings.warn(\n"
     ]
    }
   ],
   "source": [
    "from sklearn.model_selection import KFold\n",
    "kf = KFold(shuffle=True, random_state=2406) # Deafult 5 folds\n",
    "\n",
    "# Split training set into K folds\n",
    "best_score=0\n",
    "best_X_rest=0\n",
    "best_Y_rest=0\n",
    "best_X_fold=0\n",
    "best_Y_fold=0\n",
    "\n",
    "#Find best fold\n",
    "for rest_index, fold_index in kf.split(wine.data):\n",
    "    X_rest, X_fold = data[rest_index], data[fold_index]\n",
    "    Y_rest, Y_fold = target[rest_index], target[fold_index]\n",
    "    # X_fold, Y_fold = current fold\n",
    "    # X_rest, Y_fold = other folds\n",
    "\n",
    "    grid.fit(X_rest, Y_rest)\n",
    "    if grid.score(X_fold, Y_fold) > best_score:\n",
    "        best_score = grid.score(X_fold, Y_fold)\n",
    "        best_X_fold = X_fold\n",
    "        best_Y_fold = Y_fold\n",
    "        best_X_rest = X_rest\n",
    "        best_Y_rest = Y_rest          "
   ]
  },
  {
   "cell_type": "code",
   "execution_count": 36,
   "id": "99f4a315",
   "metadata": {},
   "outputs": [
    {
     "data": {
      "text/plain": [
       "array([[ 6.26050308, -0.29303305,  7.28677844,  8.25020569,  4.88850686,\n",
       "         9.26849746,  1.74938527,  1.77827822,  3.77884326,  1.77328759],\n",
       "       [ 9.30518008, -0.29549173,  6.03105117,  2.77095266,  8.25411665,\n",
       "         3.80618697,  7.19253885,  0.80183959,  3.87559781,  2.7755087 ],\n",
       "       [ 3.86191427,  9.26501996,  2.80669586, -0.28702735,  7.25993055,\n",
       "         0.73936608,  5.06924556,  1.76350896,  6.24296643,  8.26588148],\n",
       "       [ 2.76550109,  0.71949352,  5.19610388,  1.73259075,  7.23857731,\n",
       "         0.73211435,  2.73404827,  9.30226525,  6.21835002,  8.2692805 ],\n",
       "       [ 7.25983432, -0.282661  ,  8.26475411,  9.29634841,  2.80084152,\n",
       "         4.82881215,  2.7620213 ,  0.73666721,  6.12461271,  2.79342912],\n",
       "       [ 8.27370246,  2.75686737,  6.21290606,  1.74196745,  3.79059237,\n",
       "         4.89282612,  9.30189096,  0.71902519,  7.26550796, -0.28717595],\n",
       "       [ 4.97573421,  0.75385702,  8.23494168,  9.26789172,  6.09911674,\n",
       "        -0.25236313,  3.84233581,  4.96003013,  5.19232365,  1.81705742],\n",
       "       [ 3.8262963 , -0.27455496,  7.25376967,  0.75813261,  6.21318943,\n",
       "         1.76741763,  2.77181626,  9.27186298,  5.15748017,  8.24073943],\n",
       "       [ 3.81655048,  0.72146008,  5.07939686,  1.73315367,  9.30169051,\n",
       "        -0.28281225,  2.79082093,  7.20427476,  6.23817655,  8.26197011],\n",
       "       [ 2.79872082,  0.74308963,  6.21608873,  1.7617242 ,  4.91688262,\n",
       "        -0.2699412 ,  3.82508693,  9.29432862,  7.19270333,  8.23316709],\n",
       "       [ 6.17440145,  8.25177937,  5.15247059, -0.28488763,  3.90742203,\n",
       "         1.74548993,  9.29155551,  2.7481181 ,  7.27680578,  0.72936106],\n",
       "       [ 8.27326516, -0.25824641,  9.29102885,  6.09260408,  2.83097202,\n",
       "         2.74120075,  7.25036624,  1.74912516,  5.0194381 ,  1.73455267],\n",
       "       [ 7.22907428, -0.29947928,  3.88647229,  8.22259166,  3.84779801,\n",
       "         1.81500178,  4.83050282,  1.81224311,  9.30214044,  3.96456784],\n",
       "       [ 2.73619253,  9.30406255,  7.18358512, -0.28103278,  5.10931895,\n",
       "         0.73462693,  4.83172943,  1.74500526,  8.27734275,  5.07530185],\n",
       "       [ 9.3000971 , -0.29949059,  2.78144028,  4.8647995 ,  8.25351513,\n",
       "         5.04957892,  7.24751718,  1.7705034 ,  5.19230832,  0.75038237],\n",
       "       [ 9.30216561, -0.29635872,  8.25282842,  7.19753715,  5.01534728,\n",
       "         2.81925063,  4.84750655,  2.87108301,  3.88345826,  0.74743537],\n",
       "       [ 6.22405072, -0.28090317,  3.85882732,  7.18285618,  5.14719893,\n",
       "         1.72920738,  2.7457694 ,  0.7568048 ,  9.3066238 ,  8.14794352],\n",
       "       [ 8.27935466, -0.29151504,  5.12482301,  6.18222748,  3.86476828,\n",
       "         3.83328304,  9.29971618,  0.71004716,  6.26112453,  1.73109743],\n",
       "       [ 5.17531978, -0.28650389,  2.73255656,  0.75749426,  8.27651913,\n",
       "         2.767407  ,  2.75143939,  7.25783395,  6.23268765,  9.28819222],\n",
       "       [ 6.17429347,  3.83350239,  7.22966386, -0.2842636 ,  9.2923954 ,\n",
       "         0.73115899,  5.05752036,  1.73740357,  8.2682046 ,  2.96740482],\n",
       "       [ 9.29432596, -0.28335633,  2.78320857,  7.25968358,  2.76506982,\n",
       "         6.1908432 ,  8.2847783 ,  0.72873174,  5.09651361,  2.72845003],\n",
       "       [ 5.00604898, -0.28593115,  7.23578998,  6.09938603,  6.19096574,\n",
       "         1.77902017,  6.19888728,  0.77214275,  9.28035727,  2.85039435],\n",
       "       [ 9.30800535, -0.29111158,  8.27642223,  3.84406637,  7.1554019 ,\n",
       "         4.86452463,  5.79662436,  1.78653309,  2.78082606,  0.73117977],\n",
       "       [ 9.30682768, -0.29117637,  8.27530786,  3.90837217,  7.20799952,\n",
       "         4.97680665,  5.90232985,  0.73476757,  2.76620287,  1.73385393],\n",
       "       [ 7.25815442, -0.27098802,  8.23457379,  2.75401823,  3.81924573,\n",
       "         5.92887549,  9.30425364,  1.73651543,  5.13383417,  0.7267053 ],\n",
       "       [ 5.14239451, -0.28013725,  7.25116513,  0.75739802,  6.22163338,\n",
       "         1.75625661,  2.76927168,  9.27250423,  3.99303141,  8.2423628 ],\n",
       "       [ 2.7916524 ,  1.77098391,  4.87802686,  1.76428999,  7.23188442,\n",
       "        -0.28073939,  2.7681656 ,  8.27873203,  6.03277821,  9.2915426 ],\n",
       "       [ 9.2885959 , -0.27052543,  2.79597431,  4.88339872,  7.23562593,\n",
       "         3.94849101,  7.25693807,  0.70902504,  7.24140586,  1.80692307],\n",
       "       [ 7.2416914 , -0.29305247,  6.22352845,  1.73538363,  9.30699473,\n",
       "         0.71517011,  8.27102365,  3.78449311,  5.22547314,  2.73412469],\n",
       "       [ 8.2465279 , -0.28504581,  9.27315175,  1.8050956 ,  7.24852216,\n",
       "         0.76358068,  2.78062986,  4.09679931,  6.07114314,  5.13560152],\n",
       "       [ 8.26419461, -0.27856364,  7.2523885 ,  9.29486738,  0.74834262,\n",
       "         5.10985607,  3.8070989 ,  2.74036152,  6.18389682,  1.74485766],\n",
       "       [ 6.1540373 , -0.29274509,  2.8341919 ,  3.79742738,  5.83932372,\n",
       "         2.79050094,  1.77880514,  3.86637807,  9.31029428,  8.13587866],\n",
       "       [ 8.27724252,  1.74733276,  4.91606668,  2.75327038,  3.77815214,\n",
       "         7.2303208 ,  9.30754928,  0.7159472 ,  6.1883865 , -0.28788604],\n",
       "       [ 6.24168439, -0.29441759,  7.24065468,  0.72549246,  9.29967842,\n",
       "         1.72955299,  3.944153  ,  2.82104706,  7.23683245,  6.18844292],\n",
       "       [ 9.30919829, -0.3019683 ,  3.85575861,  4.92856057,  8.2470792 ,\n",
       "         4.91171447,  7.22112595,  0.73999195,  4.15756233,  1.73368917]])"
      ]
     },
     "execution_count": 36,
     "metadata": {},
     "output_type": "execute_result"
    }
   ],
   "source": [
    "# Refit with best fold\n",
    "# rest = training, fold = test\n",
    "grid.fit(best_X_rest, best_Y_rest)\n",
    "score_dec=grid.decision_function(best_X_fold)\n",
    "score_dec"
   ]
  },
  {
   "cell_type": "code",
   "execution_count": 37,
   "id": "1e421b04",
   "metadata": {},
   "outputs": [],
   "source": [
    "import math\n",
    "def dist(x1,x2):\n",
    "    return np.linalg.norm(x1-x2)\n",
    "\n",
    "n_train = best_X_rest.shape[0]\n",
    "n_test = best_X_fold.shape[0]\n",
    "dist_own = math.inf * np.ones(n_train) # Infinity array size of len samples\n",
    "dist_other = math.inf * np.ones(n_train)\n",
    "\n",
    "for i in range(n_train-1):\n",
    "    for j in range(i+1,n_train):\n",
    "        current_dist = dist(best_X_rest[i],best_X_rest[j])\n",
    "        if best_Y_rest[i]==best_Y_rest[j]:\n",
    "            if (current_dist < dist_own[i]):\n",
    "                dist_own[i] = current_dist\n",
    "            if (current_dist < dist_own[j]):\n",
    "                dist_own[j] = current_dist\n",
    "        else:\n",
    "            if (current_dist < dist_other[i]):\n",
    "                dist_other[i] = current_dist\n",
    "            if (current_dist < dist_other[j]):\n",
    "                dist_other[j] = current_dist"
   ]
  },
  {
   "cell_type": "code",
   "execution_count": 41,
   "id": "d1be4c1f",
   "metadata": {},
   "outputs": [
    {
     "data": {
      "text/plain": [
       "(6973, 256)"
      ]
     },
     "execution_count": 41,
     "metadata": {},
     "output_type": "execute_result"
    }
   ],
   "source": [
    "X_train.shape"
   ]
  },
  {
   "cell_type": "code",
   "execution_count": 42,
   "id": "65e3912c",
   "metadata": {},
   "outputs": [],
   "source": [
    "score = np.zeros(n_train+1) # Conformity scores\n",
    "p = np.zeros((n_test,256)) # 2d array of zeros width of 3 length n_test\n",
    "\n",
    "for j in range(n_test):\n",
    "    for l in range(256): # postulated label\n",
    "        aug_dist_own = np.append(dist_own,math.inf)\n",
    "        aug_dist_other = np.append(dist_other,math.inf)\n",
    "        for i in range(n_train):\n",
    "            current_dist = dist(best_X_rest[i],best_X_fold[j])\n",
    "            if best_Y_rest[i]==l:\n",
    "                if (current_dist < aug_dist_own[i]):\n",
    "                    aug_dist_own[i] = current_dist\n",
    "                if (current_dist < aug_dist_own[n_train]):\n",
    "                    aug_dist_own[n_train] = current_dist\n",
    "            else:\n",
    "                if (current_dist < aug_dist_other[i]):\n",
    "                    aug_dist_other[i] = current_dist\n",
    "                if (current_dist < aug_dist_other[n_train]):\n",
    "                    aug_dist_other[n_train] = current_dist\n",
    "            # the following for loop is the careful version\n",
    "            # of score = aug dist other / aug distance own\n",
    "            for i in range(n_train+1):\n",
    "                if aug_dist_own[i] == 0:\n",
    "                    score[i] = math.inf\n",
    "                    if (aug_dist_other[i] == 0):\n",
    "                        score[i] = 0\n",
    "                else:\n",
    "                    score[i] = aug_dist_other[i] / aug_dist_own[i]\n",
    "            p[j,l] = np.mean(score<=score[n_train]) # the p-value of l"
   ]
  },
  {
   "cell_type": "code",
   "execution_count": 43,
   "id": "92459d51",
   "metadata": {},
   "outputs": [
    {
     "data": {
      "text/plain": [
       "[<matplotlib.lines.Line2D at 0x1941b653b80>]"
      ]
     },
     "execution_count": 43,
     "metadata": {},
     "output_type": "execute_result"
    },
    {
     "data": {
      "image/png": "[encoded data removed]",
      "text/plain": [
       "<Figure size 640x480 with 1 Axes>"
      ]
     },
     "metadata": {},
     "output_type": "display_data"
    }
   ],
   "source": [
    "%matplotlib inline\n",
    "import matplotlib.pyplot as plt\n",
    "eps = np.zeros(100) # a range of significance levels\n",
    "err = np.zeros(100) # the corresponding error rates\n",
    "for k in range(100):\n",
    "    eps[k] = k/100 # considering eps = k%\n",
    "    err[k] = 0 # initializing the error rate\n",
    "    for j in range(n_test):\n",
    "        if (p[j,best_Y_fold[j]] <= eps[k]): # if we made an error\n",
    "            err[k] = err[k] + 1 # count this error\n",
    "    err[k] = err[k] / n_test # number of errors -> error rate\n",
    "plt.plot(eps,err)"
   ]
  },
  {
   "cell_type": "code",
   "execution_count": 44,
   "id": "f22fb36b",
   "metadata": {},
   "outputs": [],
   "source": [
    "# False P value\n",
    "def falsep (p,fold):\n",
    "    a=np.array([0]*len(p),dtype=float)\n",
    "    \n",
    "    for i in range(len(p)):    \n",
    "        snip = p[i]\n",
    "        snip = np.delete(snip, fold[i]) #Take mean of P values minus true label\n",
    "        a[i] = np.mean(snip)\n",
    "    return np.mean(a)"
   ]
  },
  {
   "cell_type": "code",
   "execution_count": 45,
   "id": "5f4a3f18",
   "metadata": {},
   "outputs": [
    {
     "data": {
      "text/plain": [
       "0.0074875505757858694"
      ]
     },
     "execution_count": 45,
     "metadata": {},
     "output_type": "execute_result"
    }
   ],
   "source": [
    "falsep(p,best_Y_fold)"
   ]
  },
  {
   "cell_type": "markdown",
   "id": "6757f040",
   "metadata": {},
   "source": [
    "## Neural Netowrks\n",
    "### Cross val"
   ]
  },
  {
   "cell_type": "code",
   "execution_count": 46,
   "id": "ddbd68ae",
   "metadata": {},
   "outputs": [],
   "source": [
    "from sklearn.model_selection import train_test_split\n",
    "X_train, X_test, Y_train, Y_test = train_test_split(data, target, random_state=2406)"
   ]
  },
  {
   "cell_type": "code",
   "execution_count": 47,
   "id": "7958202a",
   "metadata": {},
   "outputs": [
    {
     "name": "stdout",
     "output_type": "stream",
     "text": [
      "0.96 accuracy with a standard deviation of 0.01\n"
     ]
    }
   ],
   "source": [
    "from sklearn.neural_network import MLPClassifier\n",
    "mlp = MLPClassifier() #Default MLP classifier\n",
    "mlp.fit(X_train, Y_train)\n",
    "scores = cross_val_score (mlp, X_train, Y_train)\n",
    "print(\"%0.2f accuracy with a standard deviation of %0.2f\" % (scores.mean(), scores.std())) # 0.2f = 2dp"
   ]
  },
  {
   "cell_type": "code",
   "execution_count": 48,
   "id": "fd7524c3",
   "metadata": {},
   "outputs": [
    {
     "name": "stdout",
     "output_type": "stream",
     "text": [
      "Error rate 0.04\n",
      "Accuracy 0.9643010752688173\n"
     ]
    }
   ],
   "source": [
    "# Error rate\n",
    "pred = mlp.predict(X_test)\n",
    "error_rate = (np.mean(pred != Y_test))\n",
    "print (\"Error rate %0.2f\" %(error_rate))\n",
    "print (\"Accuracy\", 1-error_rate)"
   ]
  },
  {
   "cell_type": "markdown",
   "id": "720395c4",
   "metadata": {},
   "source": [
    "### Pipelines"
   ]
  },
  {
   "cell_type": "code",
   "execution_count": 50,
   "id": "4275c4bc",
   "metadata": {},
   "outputs": [
    {
     "ename": "KeyboardInterrupt",
     "evalue": "",
     "output_type": "error",
     "traceback": [
      "\u001b[1;31m---------------------------------------------------------------------------\u001b[0m",
      "\u001b[1;31mKeyboardInterrupt\u001b[0m                         Traceback (most recent call last)",
      "\u001b[1;32m~\\AppData\\Local\\Temp\\ipykernel_15012\\273501812.py\u001b[0m in \u001b[0;36m<module>\u001b[1;34m\u001b[0m\n\u001b[0;32m      5\u001b[0m \u001b[0mgrid\u001b[0m \u001b[1;33m=\u001b[0m \u001b[0mGridSearchCV\u001b[0m\u001b[1;33m(\u001b[0m\u001b[0mmlp\u001b[0m\u001b[1;33m,\u001b[0m \u001b[0mparam_grid\u001b[0m\u001b[1;33m=\u001b[0m\u001b[0mparam_grid\u001b[0m\u001b[1;33m,\u001b[0m \u001b[0mn_jobs\u001b[0m \u001b[1;33m=\u001b[0m \u001b[1;33m-\u001b[0m\u001b[1;36m1\u001b[0m\u001b[1;33m)\u001b[0m\u001b[1;33m\u001b[0m\u001b[1;33m\u001b[0m\u001b[0m\n\u001b[0;32m      6\u001b[0m \u001b[1;33m\u001b[0m\u001b[0m\n\u001b[1;32m----> 7\u001b[1;33m \u001b[0mgrid\u001b[0m\u001b[1;33m.\u001b[0m\u001b[0mfit\u001b[0m\u001b[1;33m(\u001b[0m\u001b[0mX_train\u001b[0m\u001b[1;33m,\u001b[0m \u001b[0mY_train\u001b[0m\u001b[1;33m)\u001b[0m\u001b[1;33m\u001b[0m\u001b[1;33m\u001b[0m\u001b[0m\n\u001b[0m\u001b[0;32m      8\u001b[0m \u001b[0mprint\u001b[0m \u001b[1;33m(\u001b[0m\u001b[1;34m\"Best cross-validation accuracy:\"\u001b[0m\u001b[1;33m,\u001b[0m \u001b[0mgrid\u001b[0m\u001b[1;33m.\u001b[0m\u001b[0mbest_score_\u001b[0m\u001b[1;33m)\u001b[0m\u001b[1;33m\u001b[0m\u001b[1;33m\u001b[0m\u001b[0m\n\u001b[0;32m      9\u001b[0m \u001b[0mprint\u001b[0m \u001b[1;33m(\u001b[0m\u001b[1;34m\"Best test set score:\"\u001b[0m\u001b[1;33m,\u001b[0m \u001b[0mgrid\u001b[0m\u001b[1;33m.\u001b[0m\u001b[0mscore\u001b[0m\u001b[1;33m(\u001b[0m\u001b[0mX_test\u001b[0m\u001b[1;33m,\u001b[0m \u001b[0mY_test\u001b[0m\u001b[1;33m)\u001b[0m\u001b[1;33m)\u001b[0m\u001b[1;33m\u001b[0m\u001b[1;33m\u001b[0m\u001b[0m\n",
      "\u001b[1;32mD:\\Uni\\Anaconda\\lib\\site-packages\\sklearn\\model_selection\\_search.py\u001b[0m in \u001b[0;36mfit\u001b[1;34m(self, X, y, groups, **fit_params)\u001b[0m\n\u001b[0;32m    889\u001b[0m                 \u001b[1;32mreturn\u001b[0m \u001b[0mresults\u001b[0m\u001b[1;33m\u001b[0m\u001b[1;33m\u001b[0m\u001b[0m\n\u001b[0;32m    890\u001b[0m \u001b[1;33m\u001b[0m\u001b[0m\n\u001b[1;32m--> 891\u001b[1;33m             \u001b[0mself\u001b[0m\u001b[1;33m.\u001b[0m\u001b[0m_run_search\u001b[0m\u001b[1;33m(\u001b[0m\u001b[0mevaluate_candidates\u001b[0m\u001b[1;33m)\u001b[0m\u001b[1;33m\u001b[0m\u001b[1;33m\u001b[0m\u001b[0m\n\u001b[0m\u001b[0;32m    892\u001b[0m \u001b[1;33m\u001b[0m\u001b[0m\n\u001b[0;32m    893\u001b[0m             \u001b[1;31m# multimetric is determined here because in the case of a callable\u001b[0m\u001b[1;33m\u001b[0m\u001b[1;33m\u001b[0m\u001b[0m\n",
      "\u001b[1;32mD:\\Uni\\Anaconda\\lib\\site-packages\\sklearn\\model_selection\\_search.py\u001b[0m in \u001b[0;36m_run_search\u001b[1;34m(self, evaluate_candidates)\u001b[0m\n\u001b[0;32m   1390\u001b[0m     \u001b[1;32mdef\u001b[0m \u001b[0m_run_search\u001b[0m\u001b[1;33m(\u001b[0m\u001b[0mself\u001b[0m\u001b[1;33m,\u001b[0m \u001b[0mevaluate_candidates\u001b[0m\u001b[1;33m)\u001b[0m\u001b[1;33m:\u001b[0m\u001b[1;33m\u001b[0m\u001b[1;33m\u001b[0m\u001b[0m\n\u001b[0;32m   1391\u001b[0m         \u001b[1;34m\"\"\"Search all candidates in param_grid\"\"\"\u001b[0m\u001b[1;33m\u001b[0m\u001b[1;33m\u001b[0m\u001b[0m\n\u001b[1;32m-> 1392\u001b[1;33m         \u001b[0mevaluate_candidates\u001b[0m\u001b[1;33m(\u001b[0m\u001b[0mParameterGrid\u001b[0m\u001b[1;33m(\u001b[0m\u001b[0mself\u001b[0m\u001b[1;33m.\u001b[0m\u001b[0mparam_grid\u001b[0m\u001b[1;33m)\u001b[0m\u001b[1;33m)\u001b[0m\u001b[1;33m\u001b[0m\u001b[1;33m\u001b[0m\u001b[0m\n\u001b[0m\u001b[0;32m   1393\u001b[0m \u001b[1;33m\u001b[0m\u001b[0m\n\u001b[0;32m   1394\u001b[0m \u001b[1;33m\u001b[0m\u001b[0m\n",
      "\u001b[1;32mD:\\Uni\\Anaconda\\lib\\site-packages\\sklearn\\model_selection\\_search.py\u001b[0m in \u001b[0;36mevaluate_candidates\u001b[1;34m(candidate_params, cv, more_results)\u001b[0m\n\u001b[0;32m    836\u001b[0m                     )\n\u001b[0;32m    837\u001b[0m \u001b[1;33m\u001b[0m\u001b[0m\n\u001b[1;32m--> 838\u001b[1;33m                 out = parallel(\n\u001b[0m\u001b[0;32m    839\u001b[0m                     delayed(_fit_and_score)(\n\u001b[0;32m    840\u001b[0m                         \u001b[0mclone\u001b[0m\u001b[1;33m(\u001b[0m\u001b[0mbase_estimator\u001b[0m\u001b[1;33m)\u001b[0m\u001b[1;33m,\u001b[0m\u001b[1;33m\u001b[0m\u001b[1;33m\u001b[0m\u001b[0m\n",
      "\u001b[1;32mD:\\Uni\\Anaconda\\lib\\site-packages\\joblib\\parallel.py\u001b[0m in \u001b[0;36m__call__\u001b[1;34m(self, iterable)\u001b[0m\n\u001b[0;32m   1054\u001b[0m \u001b[1;33m\u001b[0m\u001b[0m\n\u001b[0;32m   1055\u001b[0m             \u001b[1;32mwith\u001b[0m \u001b[0mself\u001b[0m\u001b[1;33m.\u001b[0m\u001b[0m_backend\u001b[0m\u001b[1;33m.\u001b[0m\u001b[0mretrieval_context\u001b[0m\u001b[1;33m(\u001b[0m\u001b[1;33m)\u001b[0m\u001b[1;33m:\u001b[0m\u001b[1;33m\u001b[0m\u001b[1;33m\u001b[0m\u001b[0m\n\u001b[1;32m-> 1056\u001b[1;33m                 \u001b[0mself\u001b[0m\u001b[1;33m.\u001b[0m\u001b[0mretrieve\u001b[0m\u001b[1;33m(\u001b[0m\u001b[1;33m)\u001b[0m\u001b[1;33m\u001b[0m\u001b[1;33m\u001b[0m\u001b[0m\n\u001b[0m\u001b[0;32m   1057\u001b[0m             \u001b[1;31m# Make sure that we get a last message telling us we are done\u001b[0m\u001b[1;33m\u001b[0m\u001b[1;33m\u001b[0m\u001b[0m\n\u001b[0;32m   1058\u001b[0m             \u001b[0melapsed_time\u001b[0m \u001b[1;33m=\u001b[0m \u001b[0mtime\u001b[0m\u001b[1;33m.\u001b[0m\u001b[0mtime\u001b[0m\u001b[1;33m(\u001b[0m\u001b[1;33m)\u001b[0m \u001b[1;33m-\u001b[0m \u001b[0mself\u001b[0m\u001b[1;33m.\u001b[0m\u001b[0m_start_time\u001b[0m\u001b[1;33m\u001b[0m\u001b[1;33m\u001b[0m\u001b[0m\n",
      "\u001b[1;32mD:\\Uni\\Anaconda\\lib\\site-packages\\joblib\\parallel.py\u001b[0m in \u001b[0;36mretrieve\u001b[1;34m(self)\u001b[0m\n\u001b[0;32m    933\u001b[0m             \u001b[1;32mtry\u001b[0m\u001b[1;33m:\u001b[0m\u001b[1;33m\u001b[0m\u001b[1;33m\u001b[0m\u001b[0m\n\u001b[0;32m    934\u001b[0m                 \u001b[1;32mif\u001b[0m \u001b[0mgetattr\u001b[0m\u001b[1;33m(\u001b[0m\u001b[0mself\u001b[0m\u001b[1;33m.\u001b[0m\u001b[0m_backend\u001b[0m\u001b[1;33m,\u001b[0m \u001b[1;34m'supports_timeout'\u001b[0m\u001b[1;33m,\u001b[0m \u001b[1;32mFalse\u001b[0m\u001b[1;33m)\u001b[0m\u001b[1;33m:\u001b[0m\u001b[1;33m\u001b[0m\u001b[1;33m\u001b[0m\u001b[0m\n\u001b[1;32m--> 935\u001b[1;33m                     \u001b[0mself\u001b[0m\u001b[1;33m.\u001b[0m\u001b[0m_output\u001b[0m\u001b[1;33m.\u001b[0m\u001b[0mextend\u001b[0m\u001b[1;33m(\u001b[0m\u001b[0mjob\u001b[0m\u001b[1;33m.\u001b[0m\u001b[0mget\u001b[0m\u001b[1;33m(\u001b[0m\u001b[0mtimeout\u001b[0m\u001b[1;33m=\u001b[0m\u001b[0mself\u001b[0m\u001b[1;33m.\u001b[0m\u001b[0mtimeout\u001b[0m\u001b[1;33m)\u001b[0m\u001b[1;33m)\u001b[0m\u001b[1;33m\u001b[0m\u001b[1;33m\u001b[0m\u001b[0m\n\u001b[0m\u001b[0;32m    936\u001b[0m                 \u001b[1;32melse\u001b[0m\u001b[1;33m:\u001b[0m\u001b[1;33m\u001b[0m\u001b[1;33m\u001b[0m\u001b[0m\n\u001b[0;32m    937\u001b[0m                     \u001b[0mself\u001b[0m\u001b[1;33m.\u001b[0m\u001b[0m_output\u001b[0m\u001b[1;33m.\u001b[0m\u001b[0mextend\u001b[0m\u001b[1;33m(\u001b[0m\u001b[0mjob\u001b[0m\u001b[1;33m.\u001b[0m\u001b[0mget\u001b[0m\u001b[1;33m(\u001b[0m\u001b[1;33m)\u001b[0m\u001b[1;33m)\u001b[0m\u001b[1;33m\u001b[0m\u001b[1;33m\u001b[0m\u001b[0m\n",
      "\u001b[1;32mD:\\Uni\\Anaconda\\lib\\site-packages\\joblib\\_parallel_backends.py\u001b[0m in \u001b[0;36mwrap_future_result\u001b[1;34m(future, timeout)\u001b[0m\n\u001b[0;32m    540\u001b[0m         AsyncResults.get from multiprocessing.\"\"\"\n\u001b[0;32m    541\u001b[0m         \u001b[1;32mtry\u001b[0m\u001b[1;33m:\u001b[0m\u001b[1;33m\u001b[0m\u001b[1;33m\u001b[0m\u001b[0m\n\u001b[1;32m--> 542\u001b[1;33m             \u001b[1;32mreturn\u001b[0m \u001b[0mfuture\u001b[0m\u001b[1;33m.\u001b[0m\u001b[0mresult\u001b[0m\u001b[1;33m(\u001b[0m\u001b[0mtimeout\u001b[0m\u001b[1;33m=\u001b[0m\u001b[0mtimeout\u001b[0m\u001b[1;33m)\u001b[0m\u001b[1;33m\u001b[0m\u001b[1;33m\u001b[0m\u001b[0m\n\u001b[0m\u001b[0;32m    543\u001b[0m         \u001b[1;32mexcept\u001b[0m \u001b[0mCfTimeoutError\u001b[0m \u001b[1;32mas\u001b[0m \u001b[0me\u001b[0m\u001b[1;33m:\u001b[0m\u001b[1;33m\u001b[0m\u001b[1;33m\u001b[0m\u001b[0m\n\u001b[0;32m    544\u001b[0m             \u001b[1;32mraise\u001b[0m \u001b[0mTimeoutError\u001b[0m \u001b[1;32mfrom\u001b[0m \u001b[0me\u001b[0m\u001b[1;33m\u001b[0m\u001b[1;33m\u001b[0m\u001b[0m\n",
      "\u001b[1;32mD:\\Uni\\Anaconda\\lib\\concurrent\\futures\\_base.py\u001b[0m in \u001b[0;36mresult\u001b[1;34m(self, timeout)\u001b[0m\n\u001b[0;32m    439\u001b[0m                     \u001b[1;32mreturn\u001b[0m \u001b[0mself\u001b[0m\u001b[1;33m.\u001b[0m\u001b[0m__get_result\u001b[0m\u001b[1;33m(\u001b[0m\u001b[1;33m)\u001b[0m\u001b[1;33m\u001b[0m\u001b[1;33m\u001b[0m\u001b[0m\n\u001b[0;32m    440\u001b[0m \u001b[1;33m\u001b[0m\u001b[0m\n\u001b[1;32m--> 441\u001b[1;33m                 \u001b[0mself\u001b[0m\u001b[1;33m.\u001b[0m\u001b[0m_condition\u001b[0m\u001b[1;33m.\u001b[0m\u001b[0mwait\u001b[0m\u001b[1;33m(\u001b[0m\u001b[0mtimeout\u001b[0m\u001b[1;33m)\u001b[0m\u001b[1;33m\u001b[0m\u001b[1;33m\u001b[0m\u001b[0m\n\u001b[0m\u001b[0;32m    442\u001b[0m \u001b[1;33m\u001b[0m\u001b[0m\n\u001b[0;32m    443\u001b[0m                 \u001b[1;32mif\u001b[0m \u001b[0mself\u001b[0m\u001b[1;33m.\u001b[0m\u001b[0m_state\u001b[0m \u001b[1;32min\u001b[0m \u001b[1;33m[\u001b[0m\u001b[0mCANCELLED\u001b[0m\u001b[1;33m,\u001b[0m \u001b[0mCANCELLED_AND_NOTIFIED\u001b[0m\u001b[1;33m]\u001b[0m\u001b[1;33m:\u001b[0m\u001b[1;33m\u001b[0m\u001b[1;33m\u001b[0m\u001b[0m\n",
      "\u001b[1;32mD:\\Uni\\Anaconda\\lib\\threading.py\u001b[0m in \u001b[0;36mwait\u001b[1;34m(self, timeout)\u001b[0m\n\u001b[0;32m    310\u001b[0m         \u001b[1;32mtry\u001b[0m\u001b[1;33m:\u001b[0m    \u001b[1;31m# restore state no matter what (e.g., KeyboardInterrupt)\u001b[0m\u001b[1;33m\u001b[0m\u001b[1;33m\u001b[0m\u001b[0m\n\u001b[0;32m    311\u001b[0m             \u001b[1;32mif\u001b[0m \u001b[0mtimeout\u001b[0m \u001b[1;32mis\u001b[0m \u001b[1;32mNone\u001b[0m\u001b[1;33m:\u001b[0m\u001b[1;33m\u001b[0m\u001b[1;33m\u001b[0m\u001b[0m\n\u001b[1;32m--> 312\u001b[1;33m                 \u001b[0mwaiter\u001b[0m\u001b[1;33m.\u001b[0m\u001b[0macquire\u001b[0m\u001b[1;33m(\u001b[0m\u001b[1;33m)\u001b[0m\u001b[1;33m\u001b[0m\u001b[1;33m\u001b[0m\u001b[0m\n\u001b[0m\u001b[0;32m    313\u001b[0m                 \u001b[0mgotit\u001b[0m \u001b[1;33m=\u001b[0m \u001b[1;32mTrue\u001b[0m\u001b[1;33m\u001b[0m\u001b[1;33m\u001b[0m\u001b[0m\n\u001b[0;32m    314\u001b[0m             \u001b[1;32melse\u001b[0m\u001b[1;33m:\u001b[0m\u001b[1;33m\u001b[0m\u001b[1;33m\u001b[0m\u001b[0m\n",
      "\u001b[1;31mKeyboardInterrupt\u001b[0m: "
     ]
    }
   ],
   "source": [
    "from sklearn.neural_network import MLPClassifier\n",
    "mlp = MLPClassifier(max_iter=1000)\n",
    "param_grid = {'activation': ['identity', 'logistic', 'tanh', 'relu'], 'hidden_layer_sizes': [2,10, 100, 1000, (10,10)],\n",
    "             'solver' : ['sgd', 'adam']}            \n",
    "grid = GridSearchCV(mlp, param_grid=param_grid, n_jobs = -1)\n",
    "\n",
    "grid.fit(X_train, Y_train)\n",
    "print (\"Best cross-validation accuracy:\", grid.best_score_)\n",
    "print (\"Best test set score:\", grid.score(X_test, Y_test))\n",
    "print (\"Best parameters\", grid.best_estimator_)"
   ]
  },
  {
   "cell_type": "markdown",
   "id": "64852317",
   "metadata": {},
   "source": [
    "Iterrupt left at In[50] as USPS database was taking too long to run with grid search of MLP classifier"
   ]
  },
  {
   "cell_type": "code",
   "execution_count": 51,
   "id": "d91a1e61",
   "metadata": {},
   "outputs": [
    {
     "name": "stdout",
     "output_type": "stream",
     "text": [
      "Best score = 0.9624272997948197\n",
      "best parameters = Pipeline(steps=[('scaler', MinMaxScaler()),\n",
      "                ('mlp', MLPClassifier(max_iter=1000))])\n"
     ]
    }
   ],
   "source": [
    "from sklearn.pipeline import Pipeline\n",
    "best_parameters= 0\n",
    "best_score=float(0)\n",
    "mlp = MLPClassifier(max_iter=1000)\n",
    "\n",
    "# Loop thorugh Normalisation types\n",
    "for norm in [MinMaxScaler(), StandardScaler(), RobustScaler(), Normalizer()]:\n",
    "    pipe = Pipeline([(\"scaler\", norm), (\"mlp\", mlp)])\n",
    "    # Loop through mlp parameters\n",
    "    param_grid = {'mlp__activation': ['identity', 'logistic', 'tanh', 'relu'] }            \n",
    "    grid = GridSearchCV(pipe, param_grid=param_grid, n_jobs = -1)\n",
    "    grid.fit(X_train, Y_train)\n",
    "    if best_score < float(grid.best_score_):\n",
    "        # Save best parameters and type\n",
    "        best_score = float(grid.best_score_)\n",
    "        best_parameters = grid.best_estimator_\n",
    "        \n",
    "# Results with best parameters\n",
    "print (\"Best score =\", best_score)\n",
    "print (\"best parameters =\", best_parameters)"
   ]
  },
  {
   "cell_type": "code",
   "execution_count": 52,
   "id": "3d76a58b",
   "metadata": {},
   "outputs": [
    {
     "name": "stdout",
     "output_type": "stream",
     "text": [
      "Error rate for MinMaxScaler 0.03\n"
     ]
    }
   ],
   "source": [
    "pipe = Pipeline([(\"scaler\", MinMaxScaler()), (\"mlp\", mlp)])\n",
    "param_grid = {'mlp__activation': ['identity', 'logistic', 'tanh', 'relu'],\n",
    "            'mlp__solver' : ['sgd', 'adam']}            \n",
    "grid = GridSearchCV(pipe, param_grid=param_grid, n_jobs = -1)\n",
    "grid.fit(X_train, Y_train)\n",
    "\n",
    "preds = grid.predict(X_test) # Uses grid.best to predict labels\n",
    "grid_error = (np.mean(preds != Y_test))\n",
    "print (\"Error rate for MinMaxScaler %0.2f\" %(grid_error))"
   ]
  },
  {
   "cell_type": "code",
   "execution_count": 53,
   "id": "0222ffc9",
   "metadata": {},
   "outputs": [
    {
     "name": "stdout",
     "output_type": "stream",
     "text": [
      "Error rate for StandardScaler 0.03\n"
     ]
    }
   ],
   "source": [
    "pipe = Pipeline([(\"scaler\", StandardScaler()), (\"mlp\", mlp)])\n",
    "param_grid = {'mlp__activation': ['identity', 'logistic', 'tanh', 'relu'],\n",
    "            'mlp__solver' : ['sgd', 'adam']}            \n",
    "grid = GridSearchCV(pipe, param_grid=param_grid, n_jobs = -1)\n",
    "grid.fit(X_train, Y_train)\n",
    "\n",
    "preds = grid.predict(X_test) # Uses grid.best to predict labels\n",
    "grid_error = (np.mean(preds != Y_test))\n",
    "print (\"Error rate for StandardScaler %0.2f\" %(grid_error))"
   ]
  }
 ],
 "metadata": {
  "kernelspec": {
   "display_name": "Python 3 (ipykernel)",
   "language": "python",
   "name": "python3"
  },
  "language_info": {
   "codemirror_mode": {
    "name": "ipython",
    "version": 3
   },
   "file_extension": ".py",
   "mimetype": "text/x-python",
   "name": "python",
   "nbconvert_exporter": "python",
   "pygments_lexer": "ipython3",
   "version": "3.9.13"
  }
 },
 "nbformat": 4,
 "nbformat_minor": 5
}
