{
 "cells": [
  {
   "cell_type": "markdown",
   "metadata": {},
   "source": [
    "<h1>Machine learning Assignment Jesan ale<h1>"
   ]
  },
  {
   "cell_type": "markdown",
   "metadata": {},
   "source": [
    "<h2>Iris database - Nearest neighbour algorithm<h2>"
   ]
  },
  {
   "cell_type": "code",
   "execution_count": 1,
   "metadata": {},
   "outputs": [
    {
     "name": "stdout",
     "output_type": "stream",
     "text": [
      "112 38\n",
      "112 38\n"
     ]
    }
   ],
   "source": [
    "from sklearn.datasets import load_iris\n",
    "from sklearn.model_selection import train_test_split \n",
    "import numpy as np\n",
    "import math\n",
    "\n",
    "#Loading database\n",
    "iris = load_iris()\n",
    "\n",
    "#Splitting into training and test (Default 3:1 ratio)\n",
    "X_train, X_test, Y_train, Y_test = train_test_split(iris.data, iris.target, random_state=2406)\n",
    "print (len (X_train),len (X_test))\n",
    "print (len (Y_train),len (Y_test))"
   ]
  },
  {
   "cell_type": "code",
   "execution_count": 2,
   "metadata": {},
   "outputs": [],
   "source": [
    "#Eulidian distance\n",
    "#Long ver\n",
    "# def dist(p1,p2):\n",
    "#     total=0\n",
    "#     for n in range (len(p1)):\n",
    "#         total=total+(p2[n]-p1[n])**2\n",
    "#     return total**(1/2)\n",
    "\n",
    "#Simplified\n",
    "def dist(p1, p2):\n",
    "    return np.sqrt(np.sum((p1 - p2) ** 2))   "
   ]
  },
  {
   "cell_type": "code",
   "execution_count": 3,
   "metadata": {},
   "outputs": [
    {
     "name": "stdout",
     "output_type": "stream",
     "text": [
      "[ 0 ] Distance for [7.9 3.8 6.4 2. ] = 0.4123105625617661 virginica\n",
      "[ 1 ] Distance for [4.7 3.2 1.3 0.2] = 0.14142135623730978 setosa\n",
      "[ 2 ] Distance for [6.5 2.8 4.6 1.5] = 0.24494897427831766 versicolor\n",
      "[ 3 ] Distance for [4.3 3.  1.1 0.1] = 0.3162277660168382 setosa\n",
      "[ 4 ] Distance for [6.1 2.6 5.6 1.4] = 0.5567764362830022 versicolor\n",
      "[ 5 ] Distance for [4.7 3.2 1.6 0.2] = 0.1414213562373093 setosa\n",
      "[ 6 ] Distance for [5.1 3.4 1.5 0.2] = 0.09999999999999964 setosa\n",
      "[ 7 ] Distance for [5.7 4.4 1.5 0.4] = 0.3605551275463992 setosa\n",
      "[ 8 ] Distance for [7.2 3.6 6.1 2.5] = 0.6324555320336759 virginica\n",
      "[ 9 ] Distance for [7.2 3.2 6.  1.8] = 0.3464101615137756 virginica\n",
      "[ 10 ] Distance for [6.3 2.9 5.6 1.8] = 0.24494897427831802 virginica\n",
      "[ 11 ] Distance for [6.7 3.1 4.7 1.5] = 0.2828427124746193 versicolor\n",
      "[ 12 ] Distance for [6.2 2.2 4.5 1.5] = 0.26457513110645864 versicolor\n",
      "[ 13 ] Distance for [6.7 3.3 5.7 2.5] = 0.24494897427831785 virginica\n",
      "[ 14 ] Distance for [6.8 3.  5.5 2.1] = 0.17320508075688787 virginica\n",
      "[ 15 ] Distance for [5.1 3.3 1.7 0.5] = 0.1999999999999998 setosa\n",
      "[ 16 ] Distance for [5.7 2.8 4.1 1.3] = 0.14142135623730995 versicolor\n",
      "[ 17 ] Distance for [7.7 2.6 6.9 2.3] = 0.4123105625617659 virginica\n",
      "[ 18 ] Distance for [6.5 3.  5.5 1.8] = 0.1414213562373093 virginica\n",
      "[ 19 ] Distance for [5.8 2.7 3.9 1.2] = 0.14142135623730964 versicolor\n",
      "[ 20 ] Distance for [4.4 3.  1.3 0.2] = 0.14142135623730948 setosa\n",
      "[ 21 ] Distance for [5.2 3.4 1.4 0.2] = 0.14142135623730964 setosa\n",
      "[ 22 ] Distance for [4.6 3.1 1.5 0.2] = 0.14142135623730964 setosa\n",
      "[ 23 ] Distance for [5.7 3.  4.2 1.2] = 0.14142135623730964 versicolor\n",
      "[ 24 ] Distance for [5.1 3.5 1.4 0.3] = 0.14142135623730917 setosa\n",
      "[ 25 ] Distance for [5.8 4.  1.2 0.2] = 0.412310562561766 setosa\n",
      "[ 26 ] Distance for [6.7 3.  5.2 2.3] = 0.24494897427831822 virginica\n",
      "[ 27 ] Distance for [5.8 2.8 5.1 2.4] = 0.5099019513592784 virginica\n",
      "[ 28 ] Distance for [4.6 3.4 1.4 0.3] = 0.22360679774997871 setosa\n",
      "[ 29 ] Distance for [6.7 3.  5.  1.7] = 0.31622776601683794 versicolor\n",
      "[ 30 ] Distance for [6.3 2.5 5.  1.9] = 0.24494897427831777 virginica\n",
      "[ 31 ] Distance for [5.1 3.5 1.4 0.2] = 0.1414213562373093 setosa\n",
      "[ 32 ] Distance for [5.6 2.9 3.6 1.3] = 0.44721359549995804 versicolor\n",
      "[ 33 ] Distance for [5.6 2.8 4.9 2. ] = 0.31622776601683755 virginica\n",
      "[ 34 ] Distance for [6.4 2.8 5.6 2.2] = 0.10000000000000009 virginica\n",
      "[ 35 ] Distance for [5.6 2.7 4.2 1.3] = 0.22360679774997896 versicolor\n",
      "[ 36 ] Distance for [6.7 3.3 5.7 2.1] = 0.2999999999999998 virginica\n",
      "[ 37 ] Distance for [6.5 3.2 5.1 2. ] = 0.22360679774997935 virginica\n",
      "Error rate = 1 / 38\n"
     ]
    }
   ],
   "source": [
    "#Loop through training set using X_test set as an index\n",
    "error=0\n",
    "for y in range (len(X_test)):\n",
    "    #Store min val\n",
    "    small=1000000\n",
    "    #print (\"[\",x,\"]\")    #Testing for inner loop through X_training\n",
    "    for x in range (len(X_train)):\n",
    "        temp = dist(X_train[x],X_test[y])\n",
    "        #Store min val\n",
    "        if temp < small: \n",
    "            small=temp\n",
    "            pred=Y_train[x]\n",
    "    if pred != Y_test[y]:\n",
    "        error=error+1\n",
    "        \n",
    "    print (\"[\",y,\"]\",\"Distance for\",X_test[y], \"=\", small, iris['target_names'][pred])\n",
    "print (\"Error rate =\",error,\"/\",len(X_test))"
   ]
  },
  {
   "cell_type": "code",
   "execution_count": 4,
   "metadata": {},
   "outputs": [
    {
     "name": "stdout",
     "output_type": "stream",
     "text": [
      "['virginica' 'setosa' 'versicolor' 'setosa' 'virginica' 'setosa' 'setosa'\n",
      " 'setosa' 'virginica' 'virginica' 'virginica' 'versicolor' 'versicolor'\n",
      " 'virginica' 'virginica' 'setosa' 'versicolor' 'virginica' 'virginica'\n",
      " 'versicolor' 'setosa' 'setosa' 'setosa' 'versicolor' 'setosa' 'setosa'\n",
      " 'virginica' 'virginica' 'setosa' 'versicolor' 'virginica' 'setosa'\n",
      " 'versicolor' 'virginica' 'virginica' 'versicolor' 'virginica' 'virginica']\n"
     ]
    }
   ],
   "source": [
    "print(iris['target_names'][Y_test]) #Verify match"
   ]
  },
  {
   "cell_type": "markdown",
   "metadata": {},
   "source": [
    " <h2>Conformal predictor<h2>"
   ]
  },
  {
   "cell_type": "code",
   "execution_count": 5,
   "metadata": {},
   "outputs": [
    {
     "data": {
      "text/plain": [
       "array([ 4, 14,  1,  7,  0, 13, 19,  7,  2,  3,  2,  2,  2,  5,  4,  8,  6,\n",
       "        5,  5,  8, 14, 14, 13,  6, 14,  6,  3,  1,  9,  1,  1, 14,  2,  1,\n",
       "        8,  3,  3,  2])"
      ]
     },
     "execution_count": 5,
     "metadata": {},
     "output_type": "execute_result"
    }
   ],
   "source": [
    "#Vector containing p values\n",
    "p=np.arange(38)\n",
    "\n",
    "for a in range (len(X_test)):\n",
    "    #Store min val\n",
    "    same=1000000\n",
    "    diff=1000000\n",
    "    #print (\"[\",x,\"]\")\n",
    "    for b in range (len(X_train)):\n",
    "        temp = dist(X_train[b],X_test[a])\n",
    "        #if same type\n",
    "        if [Y_test[a]]==[Y_train[b]]:\n",
    "            #print (\"Match\",[Y_test[a]],[Y_train[b]], \"distance =\", temp)\n",
    "            if temp < same: \n",
    "                same=temp\n",
    "        #if different type\n",
    "        else:\n",
    "            #if temp < 2: print (\"Match\",[Y_test[a]],[Y_train[b]], \"distance =\", temp)\n",
    "            if temp < diff: \n",
    "                diff=temp\n",
    "     #Exceptions for 0 div\n",
    "    if same ==0 and diff==0:\n",
    "        p[a]==0\n",
    "    elif same==0 and diff>0:\n",
    "        p[a]==np.inf\n",
    "    else:\n",
    "        p[a]=diff/same           \n",
    "    \n",
    "p"
   ]
  },
  {
   "cell_type": "code",
   "execution_count": 6,
   "metadata": {},
   "outputs": [],
   "source": [
    "def falsep (bid):\n",
    "    a=np.arange(len(bid))\n",
    "    for n in range (len(bid)): #Loop thorugh p values\n",
    "        a[n] = np.mean(np.delete(bid, n)) #Take mean of P values minus true label\n",
    "    return np.mean(a) #Return average of averages"
   ]
  },
  {
   "cell_type": "code",
   "execution_count": 7,
   "metadata": {},
   "outputs": [
    {
     "data": {
      "text/plain": [
       "5.7894736842105265"
      ]
     },
     "execution_count": 7,
     "metadata": {},
     "output_type": "execute_result"
    }
   ],
   "source": [
    "#Average false p-value for the Nearest Neighbour conformal predictor applied to the iris dataset\n",
    "falsep(p)"
   ]
  },
  {
   "cell_type": "markdown",
   "metadata": {},
   "source": [
    "<h2>Ionosphere - Nearest neighbour algorithm<h2>"
   ]
  },
  {
   "cell_type": "code",
   "execution_count": 8,
   "metadata": {},
   "outputs": [
    {
     "name": "stdout",
     "output_type": "stream",
     "text": [
      "351\n"
     ]
    }
   ],
   "source": [
    "#Import and find total samples\n",
    "ion = np.genfromtxt(\"ionosphere.txt\", delimiter=\",\")\n",
    "print (len(ion))"
   ]
  },
  {
   "cell_type": "code",
   "execution_count": 9,
   "metadata": {},
   "outputs": [],
   "source": [
    "#Store data and labels in seperate variables\n",
    "label = np.genfromtxt(\"ionosphere.txt\", delimiter=\",\", usecols=34, dtype='int') #34 Features removed\n",
    "data = np.genfromtxt(\"ionosphere.txt\", delimiter=\",\", usecols=[*range(0,34)], dtype='float')\n",
    "#Splitting into training and test (Default 3:1 ratio)\n",
    "V_train, V_test, W_train, W_test = train_test_split(data, label, random_state=2406)"
   ]
  },
  {
   "cell_type": "code",
   "execution_count": 10,
   "metadata": {},
   "outputs": [
    {
     "name": "stdout",
     "output_type": "stream",
     "text": [
      "263 88\n",
      "263 88\n"
     ]
    }
   ],
   "source": [
    "print (len (V_train),len (V_test))\n",
    "print (len (W_train),len (W_test))"
   ]
  },
  {
   "cell_type": "code",
   "execution_count": 11,
   "metadata": {},
   "outputs": [
    {
     "name": "stdout",
     "output_type": "stream",
     "text": [
      "[[ 1.       0.       0.46785  0.11308  0.5898   0.00665  0.55432  0.06874\n",
      "   0.47894 -0.13969  0.52993  0.0133   0.63858 -0.16186  0.67849 -0.03326\n",
      "   0.54545 -0.13525  0.52993 -0.04656  0.47894 -0.19512  0.50776 -0.13525\n",
      "   0.41463 -0.20177  0.5393  -0.11455  0.59867 -0.02882  0.53659 -0.11752\n",
      "   0.56319 -0.04435]\n",
      " [ 0.       0.      -1.       1.       1.      -1.       0.       0.\n",
      "   0.       0.       1.      -1.       1.       1.       0.       0.\n",
      "   1.      -1.       0.       0.       0.       0.       1.       1.\n",
      "  -1.       1.       1.      -1.      -1.       1.      -1.      -1.\n",
      "   0.       0.     ]\n",
      " [ 1.       0.       1.      -0.16316  1.      -0.10169  0.99999 -0.15197\n",
      "   1.      -0.19277  0.94055 -0.35151  0.95735 -0.29785  0.93719 -0.34412\n",
      "   0.94486 -0.28106  0.90137 -0.43383  0.86043 -0.47308  0.82987 -0.5122\n",
      "   0.8408  -0.47137  0.76224 -0.5837   0.65723 -0.68794  0.68714 -0.64537\n",
      "   0.64727 -0.67226]]\n",
      "[ 1 -1  1]\n"
     ]
    }
   ],
   "source": [
    "#Double check with .txt file\n",
    "print (V_train[:3])\n",
    "print (W_train[:3])"
   ]
  },
  {
   "cell_type": "code",
   "execution_count": 12,
   "metadata": {},
   "outputs": [
    {
     "name": "stdout",
     "output_type": "stream",
     "text": [
      "[[ 1.       0.       0.39286  0.52381 -0.78824  0.11342 -0.16628 -0.76378\n",
      "   0.66667  0.0119   0.82143  0.40476 -0.6723   0.30729 -0.34797 -0.63668\n",
      "   0.46429  0.15476  0.54762  0.05952 -0.5183   0.44961 -0.47651 -0.47594\n",
      "   0.32143  0.70238  0.51971  0.38848  0.57143  0.39286 -0.54891 -0.29915\n",
      "   0.25441 -0.55837]]\n"
     ]
    }
   ],
   "source": [
    "print (V_test[:1])"
   ]
  },
  {
   "cell_type": "code",
   "execution_count": 13,
   "metadata": {},
   "outputs": [
    {
     "name": "stdout",
     "output_type": "stream",
     "text": [
      "[ 0 ] Distance for [1.      0.      0.39286] = 2.5572304692968135 Class: -1\n",
      "[ 1 ] Distance for [1.      0.      0.97588] = 0.8236918435920074 Class: 1\n",
      "[ 2 ] Distance for [0. 0. 1.] = 3.8543699093755905 Class: 1\n",
      "[ 3 ] Distance for [1.      0.      0.75564] = 0.6968197246060132 Class: 1\n",
      "[ 4 ] Distance for [1.      0.      0.95202] = 0.18367406975400746 Class: 1\n",
      "[ 5 ] Distance for [1.      0.      0.88853] = 0.20386311927369308 Class: 1\n",
      "[ 6 ] Distance for [1.      0.      0.91241] = 0.2529501180074838 Class: 1\n",
      "[ 7 ] Distance for [0. 0. 0.] = 3.65181885899342 Class: -1\n",
      "[ 8 ] Distance for [1. 0. 1.] = 3.0987629611023815 Class: -1\n",
      "[ 9 ] Distance for [1.      0.      0.82624] = 0.3697898208442195 Class: 1\n",
      "[ 10 ] Distance for [1.     0.     0.8941] = 0.4086475498519476 Class: 1\n",
      "[ 11 ] Distance for [1. 0. 1.] = 1.2694126662358463 Class: 1\n",
      "[ 12 ] Distance for [1.   0.   0.25] = 0.3469841094344235 Class: 1\n",
      "[ 13 ] Distance for [1. 0. 1.] = 1.3706818319362084 Class: 1\n",
      "[ 14 ] Distance for [1. 0. 1.] = 1.6058674160403157 Class: 1\n",
      "[ 15 ] Distance for [1.      0.      0.96355] = 0.5498184394870728 Class: 1\n",
      "[ 16 ] Distance for [0. 0. 0.] = 3.605551275463989 Class: -1\n",
      "[ 17 ] Distance for [1.      0.      0.33333] = 1.0245765270588625 Class: 1\n",
      "[ 18 ] Distance for [1.      0.      0.88179] = 0.9220690374912281 Class: 1\n",
      "[ 19 ] Distance for [1. 0. 1.] = 1.0581310272362303 Class: 1\n",
      "[ 20 ] Distance for [1.      0.      0.29202] = 0.7384396313172797 Class: 1\n",
      "[ 21 ] Distance for [1.      0.      0.86889] = 0.4857188612767678 Class: 1\n",
      "[ 22 ] Distance for [1.      0.      0.89563] = 0.3750086257674615 Class: 1\n",
      "[ 23 ] Distance for [0. 0. 0.] = 3.4991399650771333 Class: 1\n",
      "[ 24 ] Distance for [1.      0.      0.68729] = 1.6358793223829196 Class: 1\n",
      "[ 25 ] Distance for [1. 0. 0.] = 2.44396580849651 Class: -1\n",
      "[ 26 ] Distance for [1.      0.      0.85736] = 0.37860953250017354 Class: 1\n",
      "[ 27 ] Distance for [0. 0. 1.] = 4.250931438002735 Class: 1\n",
      "[ 28 ] Distance for [1. 0. 1.] = 1.5560543847822288 Class: 1\n",
      "[ 29 ] Distance for [1.      0.      0.44444] = 1.3388413406374933 Class: 1\n",
      "[ 30 ] Distance for [1. 0. 1.] = 0.22581483675790656 Class: 1\n",
      "[ 31 ] Distance for [1. 0. 0.] = 3.6944089072543127 Class: 1\n",
      "[ 32 ] Distance for [1. 0. 1.] = 0.35295677724050006 Class: 1\n",
      "[ 33 ] Distance for [1.      0.      0.81143] = 0.39832158779056903 Class: 1\n",
      "[ 34 ] Distance for [1.     0.     0.0546] = 0.268910506488683 Class: -1\n",
      "[ 35 ] Distance for [1. 0. 1.] = 1.6784950824175804 Class: 1\n",
      "[ 36 ] Distance for [ 0.  0. -1.] = 4.807032840859318 Class: -1\n",
      "[ 37 ] Distance for [1.      0.      0.61857] = 0.44904963834747713 Class: 1\n",
      "[ 38 ] Distance for [1.      0.      0.72414] = 0.3316641884497028 Class: 1\n",
      "[ 39 ] Distance for [1.      0.      0.88116] = 0.2905875303587544 Class: 1\n",
      "[ 40 ] Distance for [1.      0.      0.96071] = 0.5727332721258649 Class: 1\n",
      "[ 41 ] Distance for [1.      0.      0.83789] = 0.4571554999122289 Class: 1\n",
      "[ 42 ] Distance for [1. 0. 0.] = 2.835737481873102 Class: -1\n",
      "[ 43 ] Distance for [1.     0.     0.5894] = 1.104964661335375 Class: 1\n",
      "[ 44 ] Distance for [1.      0.      0.47368] = 0.6434008357936754 Class: 1\n",
      "[ 45 ] Distance for [1.      0.      0.87111] = 0.7100565409881103 Class: 1\n",
      "[ 46 ] Distance for [1.      0.      0.85013] = 0.2943346049991404 Class: 1\n",
      "[ 47 ] Distance for [1.      0.      0.84134] = 1.449903628004289 Class: 1\n",
      "[ 48 ] Distance for [0. 0. 0.] = 5.291502622129181 Class: -1\n",
      "[ 49 ] Distance for [1.      0.      0.47337] = 0.8303620391130605 Class: 1\n",
      "[ 50 ] Distance for [ 1.       0.      -0.65625] = 1.3709370883815204 Class: -1\n",
      "[ 51 ] Distance for [1. 0. 1.] = 1.265987749387805 Class: 1\n",
      "[ 52 ] Distance for [0. 0. 0.] = 4.435055720642075 Class: 1\n",
      "[ 53 ] Distance for [1.      0.      0.39394] = 0.8750658763201774 Class: 1\n",
      "[ 54 ] Distance for [1.      0.      0.92247] = 0.8940669313312063 Class: 1\n",
      "[ 55 ] Distance for [1. 0. 1.] = 3.8982296666435654 Class: -1\n",
      "[ 56 ] Distance for [0. 0. 1.] = 4.670552554816186 Class: 1\n",
      "[ 57 ] Distance for [1.      0.      0.94649] = 0.16506793571133066 Class: 1\n",
      "[ 58 ] Distance for [1.      0.      0.94052] = 0.2284837987691906 Class: 1\n",
      "[ 59 ] Distance for [1.      0.      0.83427] = 0.45262389696082106 Class: 1\n",
      "[ 60 ] Distance for [1.      0.      0.06404] = 0.5502174888169223 Class: -1\n",
      "[ 61 ] Distance for [1.      0.      0.89835] = 0.6864146262282004 Class: 1\n",
      "[ 62 ] Distance for [0. 0. 0.] = 0.0 Class: -1\n",
      "[ 63 ] Distance for [1.      0.      0.97513] = 0.1326060956366637 Class: 1\n",
      "[ 64 ] Distance for [1.      0.      0.71253] = 2.4669138242143767 Class: 1\n",
      "[ 65 ] Distance for [1. 0. 1.] = 0.3839881887506438 Class: 1\n",
      "[ 66 ] Distance for [1. 0. 1.] = 0.49128982576479235 Class: 1\n",
      "[ 67 ] Distance for [1. 0. 0.] = 3.273180071062391 Class: -1\n",
      "[ 68 ] Distance for [1. 0. 1.] = 1.1113000696481576 Class: 1\n",
      "[ 69 ] Distance for [0. 0. 0.] = 3.092329219213245 Class: -1\n",
      "[ 70 ] Distance for [ 1.  0. -1.] = 2.7595414119378603 Class: 1\n",
      "[ 71 ] Distance for [0. 0. 1.] = 4.129804167717884 Class: -1\n",
      "[ 72 ] Distance for [1.     0.     0.8842] = 0.41473922059530366 Class: 1\n",
      "[ 73 ] Distance for [1.      0.      0.47938] = 1.021181255850302 Class: 1\n",
      "[ 74 ] Distance for [0. 0. 0.] = 1.0 Class: -1\n",
      "[ 75 ] Distance for [1.      0.      0.62121] = 1.8659179194702 Class: 1\n",
      "[ 76 ] Distance for [1.      0.      0.83479] = 0.6012165198994451 Class: 1\n",
      "[ 77 ] Distance for [1.  0.  0.5] = 0.6470324779329087 Class: 1\n",
      "[ 78 ] Distance for [1.      0.      0.93658] = 0.5549813297760565 Class: 1\n",
      "[ 79 ] Distance for [ 1.       0.      -0.00641] = 2.0281070485800297 Class: 1\n",
      "[ 80 ] Distance for [1.      0.      0.84177] = 0.2853856117606492 Class: 1\n",
      "[ 81 ] Distance for [1. 0. 1.] = 1.7847512954190563 Class: 1\n",
      "[ 82 ] Distance for [1.     0.     0.4709] = 1.188281515508846 Class: 1\n",
      "[ 83 ] Distance for [1. 0. 1.] = 1.0819431616309612 Class: 1\n",
      "[ 84 ] Distance for [1.      0.      0.90932] = 0.9474183262952012 Class: 1\n",
      "[ 85 ] Distance for [1. 0. 1.] = 0.828078054352366 Class: 1\n",
      "[ 86 ] Distance for [1. 0. 1.] = 1.1420047541056912 Class: 1\n",
      "[ 87 ] Distance for [1.      0.      0.79157] = 1.9022969997610784 Class: 1\n",
      "Error rate = 13 / 88\n"
     ]
    }
   ],
   "source": [
    "#Loop through training set \n",
    "error=0\n",
    "for c in range (len(V_test)):\n",
    "    #Store min val\n",
    "    small=1000000\n",
    "    for d in range (len(V_train)):\n",
    "        #print (\"[\",d,\"]\")    #Nested loop\n",
    "        temp = dist(V_train[d],V_test[c])\n",
    "        #Store min val\n",
    "        if temp < small: \n",
    "            small=temp\n",
    "            guess=W_train[d]\n",
    "    if guess != W_test[c]:\n",
    "        error=error+1\n",
    "        \n",
    "    print (\"[\",c,\"]\",\"Distance for\",V_test[c][:3], \"=\", small,\"Class:\", guess)\n",
    "print (\"Error rate =\", error,\"/\",len(V_test))"
   ]
  },
  {
   "cell_type": "code",
   "execution_count": 14,
   "metadata": {},
   "outputs": [
    {
     "name": "stdout",
     "output_type": "stream",
     "text": [
      "[-1  1 -1  1  1  1  1 -1 -1  1  1  1  1  1 -1  1 -1  1  1  1  1  1  1 -1\n",
      " -1 -1  1 -1  1  1  1 -1  1  1 -1  1 -1  1  1  1  1  1 -1  1  1  1  1  1\n",
      " -1  1 -1  1 -1  1  1 -1 -1  1  1  1 -1  1 -1  1 -1  1  1 -1  1 -1 -1 -1\n",
      "  1  1 -1 -1  1  1  1 -1  1  1  1  1  1  1  1 -1]\n"
     ]
    }
   ],
   "source": [
    "print(W_test)"
   ]
  },
  {
   "cell_type": "code",
   "execution_count": 15,
   "metadata": {},
   "outputs": [
    {
     "name": "stdout",
     "output_type": "stream",
     "text": [
      "[ 1 -1  1  1 -1  1  1 -1  1 -1  1  1 -1  1  1  1  1  1 -1  1  1  1  1  1\n",
      "  1  1  1  1  1 -1  1 -1  1  1  1 -1  1 -1  1 -1  1 -1 -1  1  1 -1  1  1\n",
      "  1 -1 -1  1  1 -1 -1  1 -1 -1  1 -1  1 -1  1  1 -1  1 -1 -1 -1 -1  1  1\n",
      "  1  1  1  1  1  1 -1  1  1  1  1 -1  1  1  1 -1 -1  1  1 -1 -1  1  1  1\n",
      "  1  1  1  1  1  1  1  1  1 -1  1 -1  1  1  1  1  1  1 -1 -1  1 -1  1  1\n",
      " -1  1  1 -1  1  1  1  1  1 -1 -1 -1 -1  1  1 -1  1 -1  1  1  1  1 -1 -1\n",
      "  1  1 -1  1 -1  1 -1  1  1 -1 -1 -1  1  1  1 -1  1  1 -1 -1  1 -1 -1  1\n",
      "  1 -1  1  1  1  1  1  1 -1 -1 -1  1  1 -1  1  1 -1  1  1  1 -1 -1  1  1\n",
      " -1 -1 -1  1  1 -1  1  1  1 -1 -1  1  1  1 -1  1  1  1  1 -1  1  1 -1 -1\n",
      " -1 -1  1  1  1 -1 -1  1  1  1  1 -1 -1  1  1 -1  1  1  1 -1 -1  1  1  1\n",
      "  1 -1 -1 -1 -1  1  1  1  1  1  1 -1  1  1 -1 -1 -1  1  1 -1  1  1 -1]\n"
     ]
    }
   ],
   "source": [
    "print(W_train)"
   ]
  },
  {
   "cell_type": "markdown",
   "metadata": {},
   "source": [
    "<h2>Conformal predictor<h2>"
   ]
  },
  {
   "cell_type": "code",
   "execution_count": 16,
   "metadata": {},
   "outputs": [],
   "source": [
    "#Vector containing p values\n",
    "p2=np.arange(88)\n",
    "\n",
    "for e in range (len(V_test)):\n",
    "    #Store min val\n",
    "    same=100\n",
    "    diff=100\n",
    "    for f in range (len(V_train)):\n",
    "        temp = dist(V_train[f],V_test[e])\n",
    "        #if same type\n",
    "        if [W_test[e]]==[W_train[f]]:\n",
    "            #print (f,\"Match\",[W_test[e]],[W_train[f]], \"distance =\", temp)\n",
    "            if temp < same: \n",
    "                same=temp\n",
    "        #if different type\n",
    "        else:\n",
    "            #if temp < 2: print (\"Match\",[W_test[e]],[W_train[f]], \"distance =\", temp)\n",
    "            if temp < diff: \n",
    "                diff=temp\n",
    "                \n",
    "       #Exceptions for 0 div\n",
    "    if same ==0 and diff==0:\n",
    "        p2[e]==0\n",
    "    elif same==0 and diff>0:\n",
    "        p2[e]==np.inf\n",
    "    else:\n",
    "        p2[e]=diff/same           "
   ]
  },
  {
   "cell_type": "code",
   "execution_count": 17,
   "metadata": {},
   "outputs": [
    {
     "data": {
      "text/plain": [
       "array([ 1,  2,  0,  3,  9,  6,  6,  1,  1,  4,  4,  1,  2,  2,  0,  3,  1,\n",
       "        1,  3,  1,  1,  3,  8,  0,  0,  1,  3,  0,  1,  2,  8,  0,  6,  2,\n",
       "        2,  2,  1,  2,  3,  8,  1,  5,  1,  1,  2,  2,  5,  1,  1,  1,  1,\n",
       "        1,  0,  1,  2,  1,  0, 10,  6,  7,  1,  3, 62, 13,  0,  5,  5,  1,\n",
       "        1,  1,  0,  1,  7,  1,  1,  0,  4,  1,  5,  0, 11,  2,  1,  1,  1,\n",
       "        1,  2,  0])"
      ]
     },
     "execution_count": 17,
     "metadata": {},
     "output_type": "execute_result"
    }
   ],
   "source": [
    "#P values\n",
    "p2"
   ]
  },
  {
   "cell_type": "code",
   "execution_count": 24,
   "metadata": {},
   "outputs": [],
   "source": [
    "def falsep (bid):\n",
    "    a=np.arange(bid)\n",
    "    for n in range (len(bid)): #Loop thorugh p values\n",
    "        a[n] = np.mean(np.delete(bid, n)) #Take mean of P values minus true label\n",
    "    return np.mean(a) #Return average of averages"
   ]
  },
  {
   "cell_type": "code",
   "execution_count": null,
   "metadata": {},
   "outputs": [],
   "source": []
  }
 ],
 "metadata": {
  "kernelspec": {
   "display_name": "Python 3 (ipykernel)",
   "language": "python",
   "name": "python3"
  },
  "language_info": {
   "codemirror_mode": {
    "name": "ipython",
    "version": 3
   },
   "file_extension": ".py",
   "mimetype": "text/x-python",
   "name": "python",
   "nbconvert_exporter": "python",
   "pygments_lexer": "ipython3",
   "version": "3.9.13"
  }
 },
 "nbformat": 4,
 "nbformat_minor": 4
}
